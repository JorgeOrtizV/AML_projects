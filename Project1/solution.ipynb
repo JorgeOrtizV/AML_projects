{
 "cells": [
  {
   "cell_type": "code",
   "execution_count": 38,
   "id": "10e62de8",
   "metadata": {},
   "outputs": [],
   "source": [
    "import pandas as pd\n",
    "import numpy as np\n",
    "from sklearn.feature_selection import VarianceThreshold\n",
    "from sklearn.impute import SimpleImputer, KNNImputer\n",
    "from sklearn.ensemble import RandomForestRegressor\n",
    "from sklearn.feature_selection import SelectKBest, mutual_info_classif\n",
    "from sklearn.neighbors import LocalOutlierFactor\n",
    "from sklearn.preprocessing import StandardScaler\n",
    "from sklearn.metrics import r2_score"
   ]
  },
  {
   "cell_type": "code",
   "execution_count": 2,
   "id": "00a706ea",
   "metadata": {},
   "outputs": [],
   "source": [
    "x_train_original = pd.read_csv('original_data/X_train.csv', index_col='id')\n",
    "y_train_original = pd.read_csv('original_data/y_train.csv', index_col='id')\n",
    "x_test_original = pd.read_csv('original_data/X_test.csv', index_col='id')"
   ]
  },
  {
   "cell_type": "code",
   "execution_count": 63,
   "id": "72a1124f",
   "metadata": {},
   "outputs": [],
   "source": [
    "x_test = x_test_original.values[:, 1:]"
   ]
  },
  {
   "cell_type": "code",
   "execution_count": 3,
   "id": "1311ec0c",
   "metadata": {},
   "outputs": [],
   "source": [
    "# Scale the data\n",
    "# scaler = StandardScaler()\n",
    "# x_train_scaled = scaler.fit_transform(x_train_original)\n",
    "\n",
    "# The problem of doing it here is that then I screw the low variance th"
   ]
  },
  {
   "cell_type": "code",
   "execution_count": 4,
   "id": "a1c40d10",
   "metadata": {},
   "outputs": [],
   "source": [
    "# Fill with mean values all the missing values\n",
    "mean_input = SimpleImputer(strategy='mean')\n",
    "x_train_mean = mean_input.fit_transform(x_train_original)"
   ]
  },
  {
   "cell_type": "code",
   "execution_count": 5,
   "id": "6b5d00d7",
   "metadata": {},
   "outputs": [
    {
     "data": {
      "text/plain": [
       "(1212, 832)"
      ]
     },
     "execution_count": 5,
     "metadata": {},
     "output_type": "execute_result"
    }
   ],
   "source": [
    "x_train_mean.shape"
   ]
  },
  {
   "cell_type": "code",
   "execution_count": 6,
   "id": "36788146",
   "metadata": {},
   "outputs": [],
   "source": [
    "# remove low variance features (not give any relevant info)\n",
    "threshold = 0.05 # 0.01 is more conservative\n",
    "var_selector = VarianceThreshold(threshold)\n",
    "x_train_var = var_selector.fit_transform(x_train_mean)"
   ]
  },
  {
   "cell_type": "code",
   "execution_count": 7,
   "id": "cde0b066",
   "metadata": {},
   "outputs": [
    {
     "data": {
      "text/plain": [
       "(1212, 720)"
      ]
     },
     "execution_count": 7,
     "metadata": {},
     "output_type": "execute_result"
    }
   ],
   "source": [
    "x_train_var.shape # Already removed ~110 features"
   ]
  },
  {
   "cell_type": "code",
   "execution_count": 8,
   "id": "a9291089",
   "metadata": {},
   "outputs": [],
   "source": [
    "# Remove highly correlated features\n",
    "corr_matrix = np.corrcoef(x_train_var, rowvar=False)\n",
    "high_corr_var = np.where(np.abs(corr_matrix)>0.9)\n",
    "correlated_features = set()\n",
    "for i,j in zip(*high_corr_var):\n",
    "    if i != j and i not in correlated_features:\n",
    "        correlated_features.add(j)\n",
    "        \n",
    "x_train_uncorrelated = np.delete(x_train_var, list(correlated_features), axis=1)"
   ]
  },
  {
   "cell_type": "code",
   "execution_count": 9,
   "id": "9a493532",
   "metadata": {},
   "outputs": [
    {
     "data": {
      "text/plain": [
       "(1212, 686)"
      ]
     },
     "execution_count": 9,
     "metadata": {},
     "output_type": "execute_result"
    }
   ],
   "source": [
    "# Get rid of additional 34 features\n",
    "x_train_uncorrelated.shape"
   ]
  },
  {
   "cell_type": "code",
   "execution_count": 10,
   "id": "ab6dd6dc",
   "metadata": {},
   "outputs": [
    {
     "data": {
      "text/plain": [
       "array([74., 51., 70., ..., 68., 71., 53.])"
      ]
     },
     "execution_count": 10,
     "metadata": {},
     "output_type": "execute_result"
    }
   ],
   "source": [
    "y_train_flat = np.ravel(y_train_original)\n",
    "y_train_flat"
   ]
  },
  {
   "cell_type": "code",
   "execution_count": 11,
   "id": "9822867c",
   "metadata": {},
   "outputs": [],
   "source": [
    "# Find the 200 best features through kbest\n",
    "k_best = 300\n",
    "selector = SelectKBest(score_func=mutual_info_classif, k=k_best) # k_best\n",
    "X_kbest = selector.fit_transform(x_train_uncorrelated, y_train_flat)"
   ]
  },
  {
   "cell_type": "code",
   "execution_count": null,
   "id": "1f8ba86a",
   "metadata": {},
   "outputs": [],
   "source": [
    "k_best_idxs = selector.get_support(indices=True)\n",
    "x_test = x_test[:, k_best_idxs]"
   ]
  },
  {
   "cell_type": "code",
   "execution_count": 12,
   "id": "dff040a6",
   "metadata": {},
   "outputs": [
    {
     "data": {
      "text/plain": [
       "(1212, 300)"
      ]
     },
     "execution_count": 12,
     "metadata": {},
     "output_type": "execute_result"
    }
   ],
   "source": [
    "X_kbest.shape"
   ]
  },
  {
   "cell_type": "code",
   "execution_count": 67,
   "id": "3faab61e",
   "metadata": {},
   "outputs": [],
   "source": [
    "# Standardize the data and remove outliers\n",
    "\n",
    "scaler = StandardScaler()\n",
    "x_train_scaled = scaler.fit_transform(X_kbest)\n",
    "x_test = scaler.transform(x_test)\n",
    "\n",
    "lof = LocalOutlierFactor(n_neighbors=20, contamination=0.05)\n",
    "outlier_labels = lof.fit_predict(x_train_scaled)\n",
    "\n",
    "x_train = x_train_scaled[outlier_labels == 1] # original data after detecting\n",
    "y_train = y_train_flat[outlier_labels == 1]"
   ]
  },
  {
   "cell_type": "code",
   "execution_count": 29,
   "id": "edf84a33",
   "metadata": {},
   "outputs": [
    {
     "data": {
      "text/plain": [
       "(1151,)"
      ]
     },
     "execution_count": 29,
     "metadata": {},
     "output_type": "execute_result"
    }
   ],
   "source": [
    "y_train.shape"
   ]
  },
  {
   "cell_type": "code",
   "execution_count": 30,
   "id": "a9d01aa6",
   "metadata": {},
   "outputs": [],
   "source": [
    "# Use Random Forest to select features\n",
    "\n",
    "model = RandomForestRegressor()\n",
    "model.fit(x_train, y_train)\n",
    "importances = model.feature_importances_\n",
    "indices = np.argsort(importances)[-100:]\n",
    "\n",
    "x_selected = x_train[:, indices]"
   ]
  },
  {
   "cell_type": "code",
   "execution_count": 68,
   "id": "3c058182",
   "metadata": {},
   "outputs": [],
   "source": [
    "x_test = x_test[:, indices]"
   ]
  },
  {
   "cell_type": "code",
   "execution_count": 31,
   "id": "25e38811",
   "metadata": {},
   "outputs": [
    {
     "name": "stdout",
     "output_type": "stream",
     "text": [
      "(1151, 100)\n"
     ]
    }
   ],
   "source": [
    "print(x_selected.shape)"
   ]
  },
  {
   "cell_type": "code",
   "execution_count": 36,
   "id": "5cc160ba",
   "metadata": {},
   "outputs": [],
   "source": [
    "# Train val split\n",
    "np.random.seed(32)\n",
    "\n",
    "def split_indices(n, val_pct):\n",
    "    n_val = int(val_pct*n)\n",
    "    idxs = np.random.permutation(n)\n",
    "    return idxs[n_val:], idxs[:n_val]\n",
    "\n",
    "train_idxs, val_idxs = split_indices(len(x_selected), 0.2)\n",
    "\n",
    "val_x = x_selected[val_idxs, :]\n",
    "val_y = y_train[val_idxs]\n",
    "train_x = x_selected[train_idxs, :]\n",
    "train_y = y_train[train_idxs]"
   ]
  },
  {
   "cell_type": "code",
   "execution_count": 37,
   "id": "0ad2ce2c",
   "metadata": {},
   "outputs": [
    {
     "data": {
      "text/html": [
       "<style>#sk-container-id-1 {color: black;background-color: white;}#sk-container-id-1 pre{padding: 0;}#sk-container-id-1 div.sk-toggleable {background-color: white;}#sk-container-id-1 label.sk-toggleable__label {cursor: pointer;display: block;width: 100%;margin-bottom: 0;padding: 0.3em;box-sizing: border-box;text-align: center;}#sk-container-id-1 label.sk-toggleable__label-arrow:before {content: \"▸\";float: left;margin-right: 0.25em;color: #696969;}#sk-container-id-1 label.sk-toggleable__label-arrow:hover:before {color: black;}#sk-container-id-1 div.sk-estimator:hover label.sk-toggleable__label-arrow:before {color: black;}#sk-container-id-1 div.sk-toggleable__content {max-height: 0;max-width: 0;overflow: hidden;text-align: left;background-color: #f0f8ff;}#sk-container-id-1 div.sk-toggleable__content pre {margin: 0.2em;color: black;border-radius: 0.25em;background-color: #f0f8ff;}#sk-container-id-1 input.sk-toggleable__control:checked~div.sk-toggleable__content {max-height: 200px;max-width: 100%;overflow: auto;}#sk-container-id-1 input.sk-toggleable__control:checked~label.sk-toggleable__label-arrow:before {content: \"▾\";}#sk-container-id-1 div.sk-estimator input.sk-toggleable__control:checked~label.sk-toggleable__label {background-color: #d4ebff;}#sk-container-id-1 div.sk-label input.sk-toggleable__control:checked~label.sk-toggleable__label {background-color: #d4ebff;}#sk-container-id-1 input.sk-hidden--visually {border: 0;clip: rect(1px 1px 1px 1px);clip: rect(1px, 1px, 1px, 1px);height: 1px;margin: -1px;overflow: hidden;padding: 0;position: absolute;width: 1px;}#sk-container-id-1 div.sk-estimator {font-family: monospace;background-color: #f0f8ff;border: 1px dotted black;border-radius: 0.25em;box-sizing: border-box;margin-bottom: 0.5em;}#sk-container-id-1 div.sk-estimator:hover {background-color: #d4ebff;}#sk-container-id-1 div.sk-parallel-item::after {content: \"\";width: 100%;border-bottom: 1px solid gray;flex-grow: 1;}#sk-container-id-1 div.sk-label:hover label.sk-toggleable__label {background-color: #d4ebff;}#sk-container-id-1 div.sk-serial::before {content: \"\";position: absolute;border-left: 1px solid gray;box-sizing: border-box;top: 0;bottom: 0;left: 50%;z-index: 0;}#sk-container-id-1 div.sk-serial {display: flex;flex-direction: column;align-items: center;background-color: white;padding-right: 0.2em;padding-left: 0.2em;position: relative;}#sk-container-id-1 div.sk-item {position: relative;z-index: 1;}#sk-container-id-1 div.sk-parallel {display: flex;align-items: stretch;justify-content: center;background-color: white;position: relative;}#sk-container-id-1 div.sk-item::before, #sk-container-id-1 div.sk-parallel-item::before {content: \"\";position: absolute;border-left: 1px solid gray;box-sizing: border-box;top: 0;bottom: 0;left: 50%;z-index: -1;}#sk-container-id-1 div.sk-parallel-item {display: flex;flex-direction: column;z-index: 1;position: relative;background-color: white;}#sk-container-id-1 div.sk-parallel-item:first-child::after {align-self: flex-end;width: 50%;}#sk-container-id-1 div.sk-parallel-item:last-child::after {align-self: flex-start;width: 50%;}#sk-container-id-1 div.sk-parallel-item:only-child::after {width: 0;}#sk-container-id-1 div.sk-dashed-wrapped {border: 1px dashed gray;margin: 0 0.4em 0.5em 0.4em;box-sizing: border-box;padding-bottom: 0.4em;background-color: white;}#sk-container-id-1 div.sk-label label {font-family: monospace;font-weight: bold;display: inline-block;line-height: 1.2em;}#sk-container-id-1 div.sk-label-container {text-align: center;}#sk-container-id-1 div.sk-container {/* jupyter's `normalize.less` sets `[hidden] { display: none; }` but bootstrap.min.css set `[hidden] { display: none !important; }` so we also need the `!important` here to be able to override the default hidden behavior on the sphinx rendered scikit-learn.org. See: https://github.com/scikit-learn/scikit-learn/issues/21755 */display: inline-block !important;position: relative;}#sk-container-id-1 div.sk-text-repr-fallback {display: none;}</style><div id=\"sk-container-id-1\" class=\"sk-top-container\"><div class=\"sk-text-repr-fallback\"><pre>Ridge()</pre><b>In a Jupyter environment, please rerun this cell to show the HTML representation or trust the notebook. <br />On GitHub, the HTML representation is unable to render, please try loading this page with nbviewer.org.</b></div><div class=\"sk-container\" hidden><div class=\"sk-item\"><div class=\"sk-estimator sk-toggleable\"><input class=\"sk-toggleable__control sk-hidden--visually\" id=\"sk-estimator-id-1\" type=\"checkbox\" checked><label for=\"sk-estimator-id-1\" class=\"sk-toggleable__label sk-toggleable__label-arrow\">Ridge</label><div class=\"sk-toggleable__content\"><pre>Ridge()</pre></div></div></div></div></div>"
      ],
      "text/plain": [
       "Ridge()"
      ]
     },
     "execution_count": 37,
     "metadata": {},
     "output_type": "execute_result"
    }
   ],
   "source": [
    "# Train ridge regression\n",
    "from sklearn.linear_model import Ridge\n",
    "\n",
    "ridge_model = Ridge()\n",
    "ridge_model.fit(train_x, train_y)"
   ]
  },
  {
   "cell_type": "code",
   "execution_count": 39,
   "id": "b82c9101",
   "metadata": {},
   "outputs": [
    {
     "name": "stdout",
     "output_type": "stream",
     "text": [
      "Train R^2 Score: 0.48298701304377545\n",
      "Validation R^2 Score: 0.3868440511639396\n"
     ]
    }
   ],
   "source": [
    "y_train_pred = ridge_model.predict(train_x)\n",
    "y_val_pred = ridge_model.predict(val_x)\n",
    "\n",
    "print(\"Train R^2 Score:\", r2_score(train_y, y_train_pred))\n",
    "print(\"Validation R^2 Score:\", r2_score(val_y, y_val_pred))"
   ]
  },
  {
   "cell_type": "code",
   "execution_count": 43,
   "id": "e1dde1f2",
   "metadata": {},
   "outputs": [
    {
     "name": "stdout",
     "output_type": "stream",
     "text": [
      "Train R^2 Score: 0.48299128869737606\n",
      "Validation R^2 Score: 0.3858678081352859\n"
     ]
    }
   ],
   "source": [
    "## Linear Regression\n",
    "from sklearn.linear_model import LinearRegression\n",
    "\n",
    "linear_model = LinearRegression()\n",
    "linear_model.fit(train_x, train_y)\n",
    "y_train_pred = linear_model.predict(train_x)\n",
    "y_val_pred = linear_model.predict(val_x)\n",
    "\n",
    "print(\"Train R^2 Score:\", r2_score(train_y, y_train_pred))\n",
    "print(\"Validation R^2 Score:\", r2_score(val_y, y_val_pred))"
   ]
  },
  {
   "cell_type": "code",
   "execution_count": 44,
   "id": "b7b4a586",
   "metadata": {},
   "outputs": [
    {
     "name": "stdout",
     "output_type": "stream",
     "text": [
      "Train R^2 Score: 0.3336872419903135\n",
      "Validation R^2 Score: 0.3427621632141865\n"
     ]
    }
   ],
   "source": [
    "## Lasso\n",
    "from sklearn.linear_model import Lasso\n",
    "\n",
    "lasso_model = Lasso()\n",
    "lasso_model.fit(train_x, train_y)\n",
    "y_train_pred = lasso_model.predict(train_x)\n",
    "y_val_pred = lasso_model.predict(val_x)\n",
    "\n",
    "print(\"Train R^2 Score:\", r2_score(train_y, y_train_pred))\n",
    "print(\"Validation R^2 Score:\", r2_score(val_y, y_val_pred))"
   ]
  },
  {
   "cell_type": "code",
   "execution_count": 47,
   "id": "8b905339",
   "metadata": {},
   "outputs": [
    {
     "name": "stdout",
     "output_type": "stream",
     "text": [
      "Train R^2 Score: 0.9996112941943264\n",
      "Validation R^2 Score: 0.5991541551729437\n"
     ]
    }
   ],
   "source": [
    "## XG Boost\n",
    "from xgboost import XGBRegressor\n",
    "from sklearn.metrics import r2_score\n",
    "\n",
    "xgb_model = XGBRegressor(\n",
    "    n_estimators=500,\n",
    "    learning_rate=0.05, \n",
    "    max_depth=5,\n",
    "    subsample=0.8,\n",
    "    colsample_bytree=0.8,\n",
    "    gamma=0.1, \n",
    "    reg_alpha=0.5, \n",
    "    reg_lambda=1.2,\n",
    "    random_state=42\n",
    ")\n",
    "\n",
    "xgb_model.fit(train_x, train_y)\n",
    "\n",
    "y_train_pred = xgb_model.predict(train_x)\n",
    "y_val_pred = xgb_model.predict(val_x)\n",
    "#y_test_pred = xgb_model.predict(X_test_scaled)\n",
    "\n",
    "print(\"Train R^2 Score:\", r2_score(train_y, y_train_pred))\n",
    "print(\"Validation R^2 Score:\", r2_score(val_y, y_val_pred))"
   ]
  },
  {
   "cell_type": "code",
   "execution_count": 70,
   "id": "14ce4d36",
   "metadata": {},
   "outputs": [
    {
     "data": {
      "text/plain": [
       "array([72.93002 , 70.236465, 71.47746 , 69.948456, 72.24022 , 70.75084 ,\n",
       "       70.68345 , 70.41909 , 70.31608 , 69.36794 , 71.253334, 69.81118 ,\n",
       "       68.435234, 70.86535 , 70.52215 , 70.528366, 70.93614 , 70.71203 ,\n",
       "       71.663666, 69.086205, 69.17634 , 72.21663 , 70.35669 , 71.005035,\n",
       "       71.383606, 70.36817 , 70.77453 , 72.04664 , 70.779854, 70.45461 ,\n",
       "       71.911095, 68.32331 , 71.16872 , 72.06403 , 70.23565 , 68.787445,\n",
       "       69.92719 , 70.88187 , 68.342804, 72.854454, 70.72548 , 69.38992 ,\n",
       "       68.396736, 69.84309 , 70.51633 , 69.43733 , 70.500946, 71.31786 ,\n",
       "       71.04802 , 70.54862 , 71.66242 , 71.41694 , 71.10055 , 69.73508 ,\n",
       "       70.30756 , 70.88227 , 71.657425, 70.69363 , 68.478745, 70.56824 ,\n",
       "       69.85274 , 70.59699 , 72.23364 , 69.29117 , 71.480736, 71.746956,\n",
       "       72.755295, 71.42104 , 69.79533 , 71.30703 , 69.69487 , 69.982635,\n",
       "       69.60346 , 71.48511 , 70.31946 , 71.23822 , 68.89271 , 73.382576,\n",
       "       68.66797 , 69.86446 , 71.05028 , 70.70431 , 70.0923  , 70.17959 ,\n",
       "       71.65184 , 70.84322 , 72.0412  , 73.436554, 70.65651 , 71.28622 ,\n",
       "       69.59399 , 68.8809  , 70.27544 , 70.69493 , 71.38783 , 71.22641 ,\n",
       "       72.16564 , 71.570885, 71.093346, 69.84855 , 72.53698 , 71.229836,\n",
       "       70.62826 , 71.05402 , 69.48268 , 71.78077 , 70.8903  , 71.333496,\n",
       "       69.98713 , 70.21747 , 71.22507 , 70.789825, 70.96776 , 65.673775,\n",
       "       71.10579 , 70.34666 , 68.77565 , 72.034225, 70.80771 , 71.83163 ,\n",
       "       70.77062 , 71.33583 , 71.1555  , 70.27763 , 73.01841 , 69.54462 ,\n",
       "       70.89663 , 71.45436 , 68.68891 , 67.85998 , 71.79487 , 70.96081 ,\n",
       "       67.290764, 68.27292 , 69.68788 , 68.987045, 70.244934, 70.21683 ,\n",
       "       70.58402 , 70.01727 , 68.1172  , 71.233185, 70.56787 , 70.022675,\n",
       "       68.9333  , 69.115944, 71.92613 , 69.82698 , 69.64226 , 70.35166 ,\n",
       "       68.67365 , 70.27499 , 70.92995 , 69.08815 , 71.43568 , 72.86447 ,\n",
       "       70.54755 , 71.99487 , 71.16018 , 68.57539 , 71.45577 , 71.74697 ,\n",
       "       71.73995 , 70.60235 , 71.43672 , 69.60439 , 72.14258 , 70.367546,\n",
       "       70.33011 , 70.1385  , 70.001   , 70.75941 , 71.96299 , 71.13366 ,\n",
       "       70.07048 , 70.81868 , 71.03767 , 69.18427 , 70.5476  , 69.53255 ,\n",
       "       69.97926 , 70.179405, 70.46437 , 70.70824 , 66.96111 , 71.32425 ,\n",
       "       71.23446 , 72.03314 , 73.16271 , 70.13691 , 71.20026 , 70.64895 ,\n",
       "       69.01093 , 70.7067  , 71.019424, 73.14106 , 72.80273 , 71.23061 ,\n",
       "       71.4142  , 70.413925, 69.562325, 68.922134, 70.639946, 70.23019 ,\n",
       "       69.744095, 72.45267 , 70.8418  , 71.682205, 70.674545, 68.30787 ,\n",
       "       70.36767 , 70.032265, 72.68932 , 70.489624, 70.09504 , 69.00885 ,\n",
       "       70.715706, 71.128174, 69.56321 , 71.39972 , 68.76838 , 71.15015 ,\n",
       "       71.25356 , 71.844604, 69.6557  , 69.948494, 71.60099 , 72.05316 ,\n",
       "       68.33071 , 71.800064, 68.85999 , 70.653114, 69.779335, 70.62767 ,\n",
       "       71.804375, 67.481895, 73.16226 , 71.73673 , 70.64416 , 70.30237 ,\n",
       "       71.49762 , 70.34754 , 71.06684 , 71.929794, 69.34854 , 71.127014,\n",
       "       70.45571 , 70.46168 , 69.49103 , 70.401764, 70.60319 , 71.15897 ,\n",
       "       70.447556, 71.52207 , 69.61277 , 71.71185 , 71.119194, 71.182076,\n",
       "       73.45979 , 69.604   , 70.788895, 70.579414, 69.78306 , 70.99128 ,\n",
       "       71.1592  , 71.51074 , 71.38929 , 70.54974 , 68.87469 , 69.31564 ,\n",
       "       71.07268 , 70.002754, 70.73519 , 70.00986 , 72.501656, 69.412834,\n",
       "       69.6637  , 68.79989 , 69.96823 , 71.49543 , 69.51163 , 70.33797 ,\n",
       "       70.945015, 71.81132 , 72.10758 , 70.89018 , 69.38129 , 72.02734 ,\n",
       "       70.47263 , 68.87312 , 70.29411 , 69.99777 , 71.12521 , 71.49819 ,\n",
       "       70.02134 , 69.38329 , 69.2454  , 71.129974, 69.07922 , 68.56976 ,\n",
       "       70.77883 , 69.22065 , 71.45596 , 69.03787 , 70.815735, 69.57494 ,\n",
       "       71.52974 , 70.33729 , 70.25934 , 69.9244  , 71.310455, 70.95338 ,\n",
       "       70.3297  , 70.4241  , 70.47315 , 71.08093 , 69.68634 , 68.99017 ,\n",
       "       70.489815, 70.537964, 70.45027 , 71.127914, 69.06032 , 70.924446,\n",
       "       72.71742 , 69.1485  , 71.911064, 68.20526 , 69.737625, 70.46943 ,\n",
       "       70.58386 , 70.1986  , 70.04771 , 68.67948 , 69.06227 , 70.74815 ,\n",
       "       70.2675  , 70.15621 , 68.208496, 70.00875 , 67.14148 , 71.53161 ,\n",
       "       70.85645 , 72.3812  , 71.209785, 72.03403 , 71.17142 , 68.75206 ,\n",
       "       70.239006, 68.31119 , 70.6555  , 69.23131 , 71.59666 , 69.89988 ,\n",
       "       71.65909 , 70.10287 , 71.083725, 72.618225, 72.00251 , 70.26054 ,\n",
       "       69.446045, 72.73061 , 71.291466, 71.3106  , 69.50793 , 71.87758 ,\n",
       "       69.8815  , 70.59162 , 69.139336, 69.09594 , 70.31326 , 71.37653 ,\n",
       "       70.23898 , 69.716835, 68.08785 , 71.312195, 71.09283 , 70.03177 ,\n",
       "       71.103676, 69.66746 , 68.47666 , 70.32905 , 70.894035, 70.39653 ,\n",
       "       70.85965 , 68.63425 , 71.901344, 69.52012 , 71.53228 , 70.810745,\n",
       "       71.060555, 70.805565, 70.019844, 70.91905 , 70.69835 , 70.00179 ,\n",
       "       69.34831 , 71.50101 , 69.88881 , 69.141304, 67.833244, 70.22476 ,\n",
       "       70.28024 , 72.05183 , 70.19056 , 71.24336 , 71.80485 , 69.13862 ,\n",
       "       69.91967 , 70.612915, 71.29585 , 70.20908 , 70.9722  , 66.54306 ,\n",
       "       70.053665, 70.84708 , 70.58518 , 71.045   , 68.53326 , 70.20281 ,\n",
       "       70.24927 , 71.26785 , 71.553024, 69.79552 , 71.57911 , 69.60275 ,\n",
       "       71.727264, 70.70518 , 68.15406 , 71.20941 , 68.95678 , 69.56249 ,\n",
       "       70.6516  , 70.42865 , 70.493965, 71.75833 , 71.44366 , 71.58662 ,\n",
       "       70.88062 , 68.39439 , 68.44956 , 67.55391 , 71.29304 , 70.45872 ,\n",
       "       70.68666 , 70.26469 , 70.12082 , 69.99677 , 69.68709 , 70.87861 ,\n",
       "       68.98653 , 70.93167 , 68.721634, 71.81614 , 69.21852 , 70.83891 ,\n",
       "       70.19148 , 71.29706 , 70.53422 , 71.93082 , 70.71094 , 68.75035 ,\n",
       "       69.789764, 71.33757 , 71.04772 , 70.975365, 71.258   , 70.08347 ,\n",
       "       71.59327 , 69.72257 , 69.99795 , 70.44714 , 71.360245, 70.518845,\n",
       "       71.679306, 70.68259 , 72.51294 , 71.30762 , 70.578865, 69.63611 ,\n",
       "       70.865906, 71.09263 , 69.36679 , 71.14618 , 68.97725 , 69.29379 ,\n",
       "       69.412315, 69.805595, 71.464714, 70.74195 , 71.28437 , 69.38886 ,\n",
       "       73.086266, 70.062164, 70.473625, 69.02457 , 70.14591 , 72.16534 ,\n",
       "       69.1734  , 70.02544 , 71.85546 , 72.215485, 68.50754 , 70.815414,\n",
       "       72.080574, 70.7638  , 70.662285, 67.95563 , 72.06295 , 69.67191 ,\n",
       "       70.66667 , 71.17502 , 71.87479 , 70.54903 , 70.747185, 70.090324,\n",
       "       71.11886 , 69.97923 , 69.978096, 70.600876, 70.27479 , 71.34007 ,\n",
       "       70.76713 , 70.54236 , 70.84466 , 70.471596, 70.87123 , 70.28449 ,\n",
       "       71.1998  , 70.88524 , 70.23901 , 71.60578 , 71.13154 , 70.93363 ,\n",
       "       70.0358  , 72.16732 , 70.913574, 70.06544 , 69.925064, 72.11414 ,\n",
       "       71.14424 , 71.093636, 72.37935 , 70.684746, 71.70876 , 69.97047 ,\n",
       "       68.71002 , 70.99564 , 70.335304, 69.85792 , 70.25556 , 69.75837 ,\n",
       "       70.9095  , 70.7315  , 69.77879 , 70.99869 , 70.568695, 70.71914 ,\n",
       "       68.779915, 70.12116 , 68.3298  , 69.327286, 70.691574, 68.19287 ,\n",
       "       71.15965 , 70.97882 , 72.33771 , 70.54718 , 71.50289 , 71.73754 ,\n",
       "       71.04097 , 70.83043 , 69.349075, 72.30981 , 70.96722 , 69.97338 ,\n",
       "       70.12195 , 67.72808 , 70.81894 , 70.49261 , 70.80423 , 69.56749 ,\n",
       "       70.73353 , 68.37001 , 69.12825 , 71.58125 , 69.08901 , 71.92522 ,\n",
       "       69.557556, 71.7312  , 71.467545, 71.66677 , 69.17599 , 69.30749 ,\n",
       "       70.4117  , 70.66199 , 70.27611 , 66.51827 , 68.89517 , 66.95063 ,\n",
       "       69.94124 , 67.53664 , 68.72781 , 70.65901 , 72.037254, 71.19201 ,\n",
       "       71.32122 , 73.565834, 71.92256 , 68.4694  , 71.354744, 70.68076 ,\n",
       "       71.7563  , 68.518425, 70.90544 , 68.22832 , 71.081825, 71.63743 ,\n",
       "       74.10495 , 70.57691 , 69.946365, 71.491806, 70.72167 , 71.33843 ,\n",
       "       70.614784, 72.465645, 70.67786 , 71.456215, 70.80951 , 70.3183  ,\n",
       "       69.1262  , 70.952675, 72.17973 , 70.66189 , 68.400406, 70.163055,\n",
       "       70.44551 , 70.26855 , 68.92345 , 67.296585, 70.044914, 69.96628 ,\n",
       "       72.23604 , 71.169174, 69.99089 , 70.666046, 71.03837 , 69.66053 ,\n",
       "       70.78649 , 70.64486 , 70.70348 , 69.90829 , 70.168686, 70.78608 ,\n",
       "       71.032776, 71.492226, 72.033134, 73.26399 , 71.24818 , 68.37947 ,\n",
       "       70.31379 , 71.87509 , 69.88978 , 71.49065 , 70.59622 , 68.92879 ,\n",
       "       71.121826, 71.123215, 70.122086, 69.44095 , 69.77716 , 70.206665,\n",
       "       70.59054 , 70.95513 , 71.82105 , 70.718994, 69.21212 , 70.44897 ,\n",
       "       71.69004 , 69.1093  , 73.626595, 70.67684 , 69.484726, 70.49777 ,\n",
       "       69.30939 , 70.1172  , 69.45611 , 70.840385, 70.66273 , 70.06624 ,\n",
       "       70.72319 , 71.45156 , 68.823784, 70.128685, 71.58332 , 72.21024 ,\n",
       "       73.18369 , 69.85944 , 69.882545, 71.22778 , 70.41567 , 71.33928 ,\n",
       "       71.05905 , 70.55549 , 70.52214 , 69.642975, 71.69461 , 71.74636 ,\n",
       "       69.694756, 68.91892 , 69.60757 , 69.292465, 70.6109  , 68.07951 ,\n",
       "       70.722916, 70.754654, 70.68379 , 72.01929 , 72.22893 , 70.873436,\n",
       "       69.63983 , 72.80181 , 70.855034, 68.09138 , 71.28283 , 71.13244 ,\n",
       "       70.65694 , 66.631676, 69.826294, 69.426285, 68.082375, 69.12386 ,\n",
       "       72.20238 , 69.961   , 70.587036, 71.78283 , 71.95541 , 69.60088 ,\n",
       "       70.44409 , 69.937805, 70.10965 , 70.31851 , 74.934326, 70.540474,\n",
       "       71.00451 , 69.46931 , 74.65564 , 70.9366  , 70.61993 , 69.90194 ,\n",
       "       69.711914, 69.85508 , 70.501465, 71.00479 , 70.34185 , 70.506996,\n",
       "       69.83682 , 70.09001 , 69.70112 , 69.05843 , 71.47821 , 68.58608 ,\n",
       "       69.388855, 73.04677 , 68.983604, 68.52214 , 71.687706, 68.75994 ,\n",
       "       71.194695, 71.351364, 69.99282 , 70.958855, 72.23454 , 69.87476 ,\n",
       "       71.89935 , 67.89837 ], dtype=float32)"
      ]
     },
     "execution_count": 70,
     "metadata": {},
     "output_type": "execute_result"
    }
   ],
   "source": [
    "y_test_pred = xgb_model.predict(x_test)\n",
    "y_test_pred"
   ]
  },
  {
   "cell_type": "code",
   "execution_count": 58,
   "id": "34e46e12",
   "metadata": {},
   "outputs": [],
   "source": [
    "x_test = mean_input.transform(x_test_original)"
   ]
  },
  {
   "cell_type": "code",
   "execution_count": 59,
   "id": "f90a0e58",
   "metadata": {},
   "outputs": [],
   "source": [
    "x_test = x_test[:, k_best_idxs]\n",
    "x_test = scaler.transform(x_test)\n",
    "x_test = x_test[:, indices]"
   ]
  },
  {
   "cell_type": "code",
   "execution_count": 60,
   "id": "b3d3d931",
   "metadata": {},
   "outputs": [],
   "source": [
    "y_test = xgb_model.predict(x_test)"
   ]
  },
  {
   "cell_type": "code",
   "execution_count": 61,
   "id": "716e8d00",
   "metadata": {},
   "outputs": [
    {
     "name": "stdout",
     "output_type": "stream",
     "text": [
      "(776, 2)\n"
     ]
    }
   ],
   "source": [
    "table = pd.DataFrame({'id': np.arange(0, y_test.shape[0]), 'y': y_test.ravel()})\n",
    "print(table.shape)\n",
    "table.to_csv('./data/predictions/y_test_xg_jorge.csv', index=False)"
   ]
  },
  {
   "cell_type": "code",
   "execution_count": 62,
   "id": "9f289a9a",
   "metadata": {},
   "outputs": [
    {
     "data": {
      "text/plain": [
       "array([73.88952 , 76.19964 , 57.62051 , 78.27227 , 72.29454 , 62.92834 ,\n",
       "       81.37014 , 84.09891 , 60.94775 , 75.20512 , 54.169582, 79.84534 ,\n",
       "       70.99375 , 70.00009 , 68.46336 , 72.38428 , 65.147606, 69.994865,\n",
       "       74.98604 , 77.25656 , 64.594284, 65.95398 , 63.333652, 61.345566,\n",
       "       57.963417, 68.72357 , 82.36694 , 61.31138 , 77.47098 , 64.95296 ,\n",
       "       81.17483 , 81.24967 , 61.18805 , 69.40163 , 73.27913 , 75.52132 ,\n",
       "       73.58433 , 73.5349  , 75.940025, 82.24471 , 68.62249 , 74.59709 ,\n",
       "       66.23163 , 70.35884 , 62.45373 , 81.17966 , 75.06461 , 68.37014 ,\n",
       "       61.076496, 72.417725, 69.00953 , 56.82814 , 74.86942 , 80.49153 ,\n",
       "       74.42646 , 67.97181 , 70.440895, 62.604916, 55.93757 , 70.74763 ,\n",
       "       81.588326, 73.870605, 63.128082, 64.98296 , 54.443134, 66.869545,\n",
       "       57.737434, 64.38459 , 67.00488 , 70.14473 , 69.720695, 63.705505,\n",
       "       77.16641 , 60.633343, 76.97274 , 54.125286, 69.627525, 62.95935 ,\n",
       "       56.62651 , 76.417404, 63.50196 , 69.767914, 74.52662 , 78.269966,\n",
       "       65.49698 , 75.29447 , 76.63794 , 66.581406, 78.80252 , 66.01891 ,\n",
       "       63.160084, 66.368034, 71.88505 , 62.173885, 73.115295, 61.808178,\n",
       "       80.69813 , 65.174614, 61.84348 , 56.738327, 59.6538  , 69.330765,\n",
       "       71.20127 , 66.93732 , 73.19923 , 60.249382, 66.030914, 65.06188 ,\n",
       "       59.60593 , 64.14886 , 68.7536  , 57.45549 , 73.995766, 70.22311 ,\n",
       "       59.331387, 76.28197 , 69.33494 , 68.36048 , 67.02832 , 75.28493 ,\n",
       "       78.10269 , 73.99577 , 73.38482 , 57.19706 , 84.2834  , 70.011086,\n",
       "       64.68518 , 56.74695 , 66.67173 , 81.25121 , 64.75922 , 74.3131  ,\n",
       "       79.81929 , 71.78807 , 59.995525, 73.10168 , 69.965515, 61.970383,\n",
       "       64.8772  , 78.52843 , 66.931915, 76.97562 , 75.80744 , 74.30813 ,\n",
       "       64.87497 , 64.93029 , 81.63729 , 59.112877, 67.5215  , 78.132454,\n",
       "       59.01378 , 73.09509 , 73.30057 , 60.47007 , 72.983246, 76.63767 ,\n",
       "       75.55553 , 80.63897 , 63.476814, 68.70489 , 63.33199 , 69.83444 ,\n",
       "       75.592834, 65.056366, 68.2625  , 66.81422 , 74.41774 , 74.390274,\n",
       "       79.55991 , 83.99974 , 52.89895 , 75.41903 , 80.115364, 76.70572 ,\n",
       "       62.03428 , 78.43863 , 80.89414 , 72.454216, 75.77027 , 61.258846,\n",
       "       82.85348 , 65.94323 , 75.023796, 69.58275 , 63.187397, 72.588234,\n",
       "       75.65434 , 70.924416, 67.71053 , 74.57497 , 75.19962 , 65.99054 ,\n",
       "       78.29349 , 63.58702 , 64.52339 , 68.55083 , 61.96192 , 82.79265 ,\n",
       "       72.51829 , 77.21981 , 62.739166, 64.988914, 72.581764, 60.426826,\n",
       "       64.75759 , 76.16865 , 72.26434 , 61.64887 , 56.79524 , 63.739918,\n",
       "       78.201485, 77.44098 , 74.48654 , 65.126564, 61.301804, 63.857353,\n",
       "       74.25399 , 60.591633, 69.07304 , 60.274986, 74.49215 , 72.26004 ,\n",
       "       59.535057, 82.4034  , 70.32832 , 82.257774, 68.95925 , 67.76309 ,\n",
       "       77.67033 , 73.943405], dtype=float32)"
      ]
     },
     "execution_count": 62,
     "metadata": {},
     "output_type": "execute_result"
    }
   ],
   "source": [
    "y_val_pred"
   ]
  },
  {
   "cell_type": "code",
   "execution_count": null,
   "id": "59487d6a",
   "metadata": {},
   "outputs": [],
   "source": []
  }
 ],
 "metadata": {
  "kernelspec": {
   "display_name": "Python 3 (ipykernel)",
   "language": "python",
   "name": "python3"
  },
  "language_info": {
   "codemirror_mode": {
    "name": "ipython",
    "version": 3
   },
   "file_extension": ".py",
   "mimetype": "text/x-python",
   "name": "python",
   "nbconvert_exporter": "python",
   "pygments_lexer": "ipython3",
   "version": "3.11.9"
  }
 },
 "nbformat": 4,
 "nbformat_minor": 5
}
