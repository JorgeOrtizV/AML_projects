{
 "cells": [
  {
   "cell_type": "code",
   "execution_count": 38,
   "id": "10e62de8",
   "metadata": {},
   "outputs": [],
   "source": [
    "import pandas as pd\n",
    "import numpy as np\n",
    "from sklearn.feature_selection import VarianceThreshold\n",
    "from sklearn.impute import SimpleImputer, KNNImputer\n",
    "from sklearn.ensemble import RandomForestRegressor\n",
    "from sklearn.feature_selection import SelectKBest, mutual_info_classif\n",
    "from sklearn.neighbors import LocalOutlierFactor\n",
    "from sklearn.preprocessing import StandardScaler\n",
    "from sklearn.metrics import r2_score"
   ]
  },
  {
   "cell_type": "code",
   "execution_count": 2,
   "id": "00a706ea",
   "metadata": {},
   "outputs": [],
   "source": [
    "x_train_original = pd.read_csv('original_data/X_train.csv', index_col='id')\n",
    "y_train_original = pd.read_csv('original_data/y_train.csv', index_col='id')\n",
    "x_test_original = pd.read_csv('original_data/X_test.csv', index_col='id')"
   ]
  },
  {
   "cell_type": "code",
   "execution_count": 3,
   "id": "1311ec0c",
   "metadata": {},
   "outputs": [],
   "source": [
    "# Scale the data\n",
    "# scaler = StandardScaler()\n",
    "# x_train_scaled = scaler.fit_transform(x_train_original)\n",
    "\n",
    "# The problem of doing it here is that then I screw the low variance th"
   ]
  },
  {
   "cell_type": "code",
   "execution_count": 4,
   "id": "a1c40d10",
   "metadata": {},
   "outputs": [],
   "source": [
    "# Fill with mean values all the missing values\n",
    "mean_input = SimpleImputer(strategy='mean')\n",
    "x_train_mean = mean_input.fit_transform(x_train_original)"
   ]
  },
  {
   "cell_type": "code",
   "execution_count": 5,
   "id": "6b5d00d7",
   "metadata": {},
   "outputs": [
    {
     "data": {
      "text/plain": [
       "(1212, 832)"
      ]
     },
     "execution_count": 5,
     "metadata": {},
     "output_type": "execute_result"
    }
   ],
   "source": [
    "x_train_mean.shape"
   ]
  },
  {
   "cell_type": "code",
   "execution_count": 6,
   "id": "36788146",
   "metadata": {},
   "outputs": [],
   "source": [
    "# remove low variance features (not give any relevant info)\n",
    "threshold = 0.05 # 0.01 is more conservative\n",
    "var_selector = VarianceThreshold(threshold)\n",
    "x_train_var = var_selector.fit_transform(x_train_mean)"
   ]
  },
  {
   "cell_type": "code",
   "execution_count": 7,
   "id": "cde0b066",
   "metadata": {},
   "outputs": [
    {
     "data": {
      "text/plain": [
       "(1212, 720)"
      ]
     },
     "execution_count": 7,
     "metadata": {},
     "output_type": "execute_result"
    }
   ],
   "source": [
    "x_train_var.shape # Already removed ~110 features"
   ]
  },
  {
   "cell_type": "code",
   "execution_count": 8,
   "id": "a9291089",
   "metadata": {},
   "outputs": [],
   "source": [
    "# Remove highly correlated features\n",
    "corr_matrix = np.corrcoef(x_train_var, rowvar=False)\n",
    "high_corr_var = np.where(np.abs(corr_matrix)>0.9)\n",
    "correlated_features = set()\n",
    "for i,j in zip(*high_corr_var):\n",
    "    if i != j and i not in correlated_features:\n",
    "        correlated_features.add(j)\n",
    "        \n",
    "x_train_uncorrelated = np.delete(x_train_var, list(correlated_features), axis=1)"
   ]
  },
  {
   "cell_type": "code",
   "execution_count": 9,
   "id": "9a493532",
   "metadata": {},
   "outputs": [
    {
     "data": {
      "text/plain": [
       "(1212, 686)"
      ]
     },
     "execution_count": 9,
     "metadata": {},
     "output_type": "execute_result"
    }
   ],
   "source": [
    "# Get rid of additional 34 features\n",
    "x_train_uncorrelated.shape"
   ]
  },
  {
   "cell_type": "code",
   "execution_count": 10,
   "id": "ab6dd6dc",
   "metadata": {},
   "outputs": [
    {
     "data": {
      "text/plain": [
       "array([74., 51., 70., ..., 68., 71., 53.])"
      ]
     },
     "execution_count": 10,
     "metadata": {},
     "output_type": "execute_result"
    }
   ],
   "source": [
    "y_train_flat = np.ravel(y_train_original)\n",
    "y_train_flat"
   ]
  },
  {
   "cell_type": "code",
   "execution_count": 11,
   "id": "9822867c",
   "metadata": {},
   "outputs": [],
   "source": [
    "# Find the 200 best features through kbest\n",
    "k_best = 300\n",
    "selector = SelectKBest(score_func=mutual_info_classif, k=k_best) # k_best\n",
    "X_kbest = selector.fit_transform(x_train_uncorrelated, y_train_flat)"
   ]
  },
  {
   "cell_type": "code",
   "execution_count": 12,
   "id": "dff040a6",
   "metadata": {},
   "outputs": [
    {
     "data": {
      "text/plain": [
       "(1212, 300)"
      ]
     },
     "execution_count": 12,
     "metadata": {},
     "output_type": "execute_result"
    }
   ],
   "source": [
    "X_kbest.shape"
   ]
  },
  {
   "cell_type": "code",
   "execution_count": 28,
   "id": "3faab61e",
   "metadata": {},
   "outputs": [],
   "source": [
    "# Standardize the data and remove outliers\n",
    "\n",
    "scaler = StandardScaler()\n",
    "x_train_scaled = scaler.fit_transform(X_kbest)\n",
    "\n",
    "lof = LocalOutlierFactor(n_neighbors=20, contamination=0.05)\n",
    "outlier_labels = lof.fit_predict(x_train_scaled)\n",
    "\n",
    "x_train = x_train_scaled[outlier_labels == 1] # original data after detecting\n",
    "y_train = y_train_flat[outlier_labels == 1]"
   ]
  },
  {
   "cell_type": "code",
   "execution_count": 29,
   "id": "edf84a33",
   "metadata": {},
   "outputs": [
    {
     "data": {
      "text/plain": [
       "(1151,)"
      ]
     },
     "execution_count": 29,
     "metadata": {},
     "output_type": "execute_result"
    }
   ],
   "source": [
    "y_train.shape"
   ]
  },
  {
   "cell_type": "code",
   "execution_count": 30,
   "id": "30ffbdb1",
   "metadata": {},
   "outputs": [],
   "source": [
    "# Use Random Forest to select features\n",
    "\n",
    "model = RandomForestRegressor()\n",
    "model.fit(x_train, y_train)\n",
    "importances = model.feature_importances_\n",
    "indices = np.argsort(importances)[-100:]\n",
    "\n",
    "x_selected = x_train[:, indices]\n",
    "#y_selected = y_train[:, indices]"
   ]
  },
  {
   "cell_type": "code",
   "execution_count": 31,
   "id": "987344a0",
   "metadata": {},
   "outputs": [
    {
     "name": "stdout",
     "output_type": "stream",
     "text": [
      "(1151, 100)\n"
     ]
    }
   ],
   "source": [
    "print(x_selected.shape)"
   ]
  },
  {
   "cell_type": "code",
   "execution_count": 33,
   "id": "d8455eab",
   "metadata": {},
   "outputs": [],
   "source": [
    "k_best_idxs = selector.get_support(indices=True)"
   ]
  },
  {
   "cell_type": "code",
   "execution_count": 36,
   "id": "d82fcfd1",
   "metadata": {},
   "outputs": [],
   "source": [
    "# Train val split\n",
    "np.random.seed(32)\n",
    "\n",
    "def split_indices(n, val_pct):\n",
    "    n_val = int(val_pct*n)\n",
    "    idxs = np.random.permutation(n)\n",
    "    return idxs[n_val:], idxs[:n_val]\n",
    "\n",
    "train_idxs, val_idxs = split_indices(len(x_selected), 0.2)\n",
    "\n",
    "val_x = x_selected[val_idxs, :]\n",
    "val_y = y_train[val_idxs]\n",
    "train_x = x_selected[train_idxs, :]\n",
    "train_y = y_train[train_idxs]"
   ]
  },
  {
   "cell_type": "code",
   "execution_count": 37,
   "id": "2d597088",
   "metadata": {},
   "outputs": [
    {
     "data": {
      "text/html": [
       "<style>#sk-container-id-1 {color: black;background-color: white;}#sk-container-id-1 pre{padding: 0;}#sk-container-id-1 div.sk-toggleable {background-color: white;}#sk-container-id-1 label.sk-toggleable__label {cursor: pointer;display: block;width: 100%;margin-bottom: 0;padding: 0.3em;box-sizing: border-box;text-align: center;}#sk-container-id-1 label.sk-toggleable__label-arrow:before {content: \"▸\";float: left;margin-right: 0.25em;color: #696969;}#sk-container-id-1 label.sk-toggleable__label-arrow:hover:before {color: black;}#sk-container-id-1 div.sk-estimator:hover label.sk-toggleable__label-arrow:before {color: black;}#sk-container-id-1 div.sk-toggleable__content {max-height: 0;max-width: 0;overflow: hidden;text-align: left;background-color: #f0f8ff;}#sk-container-id-1 div.sk-toggleable__content pre {margin: 0.2em;color: black;border-radius: 0.25em;background-color: #f0f8ff;}#sk-container-id-1 input.sk-toggleable__control:checked~div.sk-toggleable__content {max-height: 200px;max-width: 100%;overflow: auto;}#sk-container-id-1 input.sk-toggleable__control:checked~label.sk-toggleable__label-arrow:before {content: \"▾\";}#sk-container-id-1 div.sk-estimator input.sk-toggleable__control:checked~label.sk-toggleable__label {background-color: #d4ebff;}#sk-container-id-1 div.sk-label input.sk-toggleable__control:checked~label.sk-toggleable__label {background-color: #d4ebff;}#sk-container-id-1 input.sk-hidden--visually {border: 0;clip: rect(1px 1px 1px 1px);clip: rect(1px, 1px, 1px, 1px);height: 1px;margin: -1px;overflow: hidden;padding: 0;position: absolute;width: 1px;}#sk-container-id-1 div.sk-estimator {font-family: monospace;background-color: #f0f8ff;border: 1px dotted black;border-radius: 0.25em;box-sizing: border-box;margin-bottom: 0.5em;}#sk-container-id-1 div.sk-estimator:hover {background-color: #d4ebff;}#sk-container-id-1 div.sk-parallel-item::after {content: \"\";width: 100%;border-bottom: 1px solid gray;flex-grow: 1;}#sk-container-id-1 div.sk-label:hover label.sk-toggleable__label {background-color: #d4ebff;}#sk-container-id-1 div.sk-serial::before {content: \"\";position: absolute;border-left: 1px solid gray;box-sizing: border-box;top: 0;bottom: 0;left: 50%;z-index: 0;}#sk-container-id-1 div.sk-serial {display: flex;flex-direction: column;align-items: center;background-color: white;padding-right: 0.2em;padding-left: 0.2em;position: relative;}#sk-container-id-1 div.sk-item {position: relative;z-index: 1;}#sk-container-id-1 div.sk-parallel {display: flex;align-items: stretch;justify-content: center;background-color: white;position: relative;}#sk-container-id-1 div.sk-item::before, #sk-container-id-1 div.sk-parallel-item::before {content: \"\";position: absolute;border-left: 1px solid gray;box-sizing: border-box;top: 0;bottom: 0;left: 50%;z-index: -1;}#sk-container-id-1 div.sk-parallel-item {display: flex;flex-direction: column;z-index: 1;position: relative;background-color: white;}#sk-container-id-1 div.sk-parallel-item:first-child::after {align-self: flex-end;width: 50%;}#sk-container-id-1 div.sk-parallel-item:last-child::after {align-self: flex-start;width: 50%;}#sk-container-id-1 div.sk-parallel-item:only-child::after {width: 0;}#sk-container-id-1 div.sk-dashed-wrapped {border: 1px dashed gray;margin: 0 0.4em 0.5em 0.4em;box-sizing: border-box;padding-bottom: 0.4em;background-color: white;}#sk-container-id-1 div.sk-label label {font-family: monospace;font-weight: bold;display: inline-block;line-height: 1.2em;}#sk-container-id-1 div.sk-label-container {text-align: center;}#sk-container-id-1 div.sk-container {/* jupyter's `normalize.less` sets `[hidden] { display: none; }` but bootstrap.min.css set `[hidden] { display: none !important; }` so we also need the `!important` here to be able to override the default hidden behavior on the sphinx rendered scikit-learn.org. See: https://github.com/scikit-learn/scikit-learn/issues/21755 */display: inline-block !important;position: relative;}#sk-container-id-1 div.sk-text-repr-fallback {display: none;}</style><div id=\"sk-container-id-1\" class=\"sk-top-container\"><div class=\"sk-text-repr-fallback\"><pre>Ridge()</pre><b>In a Jupyter environment, please rerun this cell to show the HTML representation or trust the notebook. <br />On GitHub, the HTML representation is unable to render, please try loading this page with nbviewer.org.</b></div><div class=\"sk-container\" hidden><div class=\"sk-item\"><div class=\"sk-estimator sk-toggleable\"><input class=\"sk-toggleable__control sk-hidden--visually\" id=\"sk-estimator-id-1\" type=\"checkbox\" checked><label for=\"sk-estimator-id-1\" class=\"sk-toggleable__label sk-toggleable__label-arrow\">Ridge</label><div class=\"sk-toggleable__content\"><pre>Ridge()</pre></div></div></div></div></div>"
      ],
      "text/plain": [
       "Ridge()"
      ]
     },
     "execution_count": 37,
     "metadata": {},
     "output_type": "execute_result"
    }
   ],
   "source": [
    "# Train ridge regression\n",
    "from sklearn.linear_model import Ridge\n",
    "\n",
    "ridge_model = Ridge()\n",
    "ridge_model.fit(train_x, train_y)"
   ]
  },
  {
   "cell_type": "code",
   "execution_count": 39,
   "id": "a3ef1d67",
   "metadata": {},
   "outputs": [
    {
     "name": "stdout",
     "output_type": "stream",
     "text": [
      "Train R^2 Score: 0.48298701304377545\n",
      "Validation R^2 Score: 0.3868440511639396\n"
     ]
    }
   ],
   "source": [
    "y_train_pred = ridge_model.predict(train_x)\n",
    "y_val_pred = ridge_model.predict(val_x)\n",
    "\n",
    "print(\"Train R^2 Score:\", r2_score(train_y, y_train_pred))\n",
    "print(\"Validation R^2 Score:\", r2_score(val_y, y_val_pred))"
   ]
  },
  {
   "cell_type": "code",
   "execution_count": 40,
   "id": "acac6fbb",
   "metadata": {},
   "outputs": [],
   "source": [
    "# Try with a widther feature space\n",
    "ridge_2 = Ridge()\n",
    "val_x_2 = x_train[val_idxs, :]\n",
    "val_y_2 = y_train[val_idxs]\n",
    "train_x_2 = x_train[train_idxs, :]\n",
    "train_y_2 = y_train[train_idxs]"
   ]
  },
  {
   "cell_type": "code",
   "execution_count": 42,
   "id": "782ab82d",
   "metadata": {},
   "outputs": [
    {
     "name": "stdout",
     "output_type": "stream",
     "text": [
      "Train R^2 Score: 0.5915374305678198\n",
      "Validation R^2 Score: 0.20171966918381623\n"
     ]
    }
   ],
   "source": [
    "ridge_2.fit(train_x_2, train_y_2)\n",
    "y_val_pred = ridge_2.predict(val_x_2)\n",
    "y_train_pred = ridge_2.predict(train_x_2)\n",
    "\n",
    "print(\"Train R^2 Score:\", r2_score(train_y_2, y_train_pred))\n",
    "print(\"Validation R^2 Score:\", r2_score(val_y_2, y_val_pred))"
   ]
  },
  {
   "cell_type": "code",
   "execution_count": null,
   "id": "ec2a540e",
   "metadata": {},
   "outputs": [],
   "source": []
  }
 ],
 "metadata": {
  "kernelspec": {
   "display_name": "Python 3 (ipykernel)",
   "language": "python",
   "name": "python3"
  },
  "language_info": {
   "codemirror_mode": {
    "name": "ipython",
    "version": 3
   },
   "file_extension": ".py",
   "mimetype": "text/x-python",
   "name": "python",
   "nbconvert_exporter": "python",
   "pygments_lexer": "ipython3",
   "version": "3.11.9"
  }
 },
 "nbformat": 4,
 "nbformat_minor": 5
}
