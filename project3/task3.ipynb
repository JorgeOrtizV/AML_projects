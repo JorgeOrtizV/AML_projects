{
 "cells": [
  {
   "cell_type": "markdown",
   "metadata": {},
   "source": [
    "# Task 3: Helper notebook for loading the data and saving the predictions"
   ]
  },
  {
   "cell_type": "code",
   "execution_count": 1,
   "metadata": {},
   "outputs": [],
   "source": [
    "import pickle\n",
    "import gzip\n",
    "import numpy as np\n",
    "import os"
   ]
  },
  {
   "cell_type": "markdown",
   "metadata": {},
   "source": [
    "### Helper functions"
   ]
  },
  {
   "cell_type": "code",
   "execution_count": 2,
   "metadata": {},
   "outputs": [],
   "source": [
    "def load_zipped_pickle(filename):\n",
    "    with gzip.open(filename, 'rb') as f:\n",
    "        loaded_object = pickle.load(f)\n",
    "        return loaded_object"
   ]
  },
  {
   "cell_type": "code",
   "execution_count": 3,
   "metadata": {},
   "outputs": [],
   "source": [
    "def save_zipped_pickle(obj, filename):\n",
    "    with gzip.open(filename, 'wb') as f:\n",
    "        pickle.dump(obj, f, 2)"
   ]
  },
  {
   "cell_type": "markdown",
   "metadata": {},
   "source": [
    "### Load data, make predictions and save prediction in correct format"
   ]
  },
  {
   "cell_type": "code",
   "execution_count": 4,
   "metadata": {},
   "outputs": [],
   "source": [
    "# load data\n",
    "train_data = load_zipped_pickle(\"train.pkl\")\n",
    "test_data = load_zipped_pickle(\"test.pkl\")\n",
    "samples = load_zipped_pickle(\"sample.pkl\")"
   ]
  },
  {
   "cell_type": "code",
   "execution_count": 5,
   "metadata": {},
   "outputs": [],
   "source": [
    "from tqdm import tqdm\n",
    "import matplotlib.pyplot as plt\n",
    "\n",
    "def preprocess_train_data(data):\n",
    "    video_frames = []\n",
    "    mask_frames = []\n",
    "    names = []\n",
    "    for item in tqdm(data):\n",
    "        video = item['video']\n",
    "        name = item['name']\n",
    "        height, width, n_frames = video.shape\n",
    "        mask = np.zeros((height, width, n_frames), dtype=np.bool)\n",
    "        for frame in item['frames']:\n",
    "            mask[:, :, frame] = item['label'][:, :, frame]\n",
    "            video_frame = video[:, :, frame]\n",
    "            mask_frame = mask[:, :, frame]\n",
    "            video_frame = np.expand_dims(video_frame, axis=2).astype(np.float32)\n",
    "            mask_frame = np.expand_dims(mask_frame, axis=2).astype(np.int32)\n",
    "            video_frames.append(video_frame)\n",
    "            mask_frames.append(mask_frame)\n",
    "            names.append(name)\n",
    "    return names, video_frames, mask_frames\n",
    "\n",
    "def preprocess_test_data(data):\n",
    "    video_frames = []\n",
    "    names = []\n",
    "    for item in tqdm(data):\n",
    "        video = item['video']\n",
    "        video = video.astype(np.float32).transpose((2, 0, 1))\n",
    "        video = np.expand_dims(video, axis=3)\n",
    "        video_frames += list(video)\n",
    "        names += [item['name'] for _ in video]\n",
    "    return names, video_frames"
   ]
  },
  {
   "cell_type": "code",
   "execution_count": 6,
   "metadata": {},
   "outputs": [
    {
     "name": "stderr",
     "output_type": "stream",
     "text": [
      "100%|███████████████████████████████████████████| 65/65 [00:01<00:00, 57.88it/s]\n",
      "100%|███████████████████████████████████████████| 20/20 [00:02<00:00,  9.25it/s]\n"
     ]
    }
   ],
   "source": [
    "names, videos, masks = preprocess_train_data(train_data)\n",
    "test_names, test_videos = preprocess_test_data(test_data)"
   ]
  },
  {
   "cell_type": "markdown",
   "metadata": {},
   "source": [
    "### From the flattented array, retrieve indices and length for submission format"
   ]
  },
  {
   "cell_type": "code",
   "execution_count": null,
   "metadata": {},
   "outputs": [],
   "source": [
    "def get_sequences(arr):\n",
    "    first_indices, last_indices, lengths = [], [], []\n",
    "    n, i = len(arr), 0\n",
    "    arr = [0] + list(arr) + [0]\n",
    "    for index, value in enumerate(arr[:-1]):\n",
    "        if arr[index+1]-arr[index] == 1:\n",
    "            first_indices.append(index)\n",
    "        if arr[index+1]-arr[index] == -1:\n",
    "            last_indices.append(index)\n",
    "    lengths = list(np.array(last_indices)-np.array(first_indices))\n",
    "    return first_indices, lengths"
   ]
  },
  {
   "cell_type": "markdown",
   "metadata": {},
   "source": [
    "### Create .csv in submission format"
   ]
  },
  {
   "cell_type": "code",
   "execution_count": null,
   "metadata": {},
   "outputs": [],
   "source": [
    "import pandas as pd\n",
    "\n",
    "df = pd.DataFrame({\"id\":ids, \"value\":[list(map(int, minili)) for minili in values]})\n",
    "df.to_csv(f\"mysubmissionfile_{THRESHOLD}.csv\", index=False)"
   ]
  }
 ],
 "metadata": {
  "kernelspec": {
   "display_name": "Python 3",
   "language": "python",
   "name": "python3"
  },
  "language_info": {
   "codemirror_mode": {
    "name": "ipython",
    "version": 3
   },
   "file_extension": ".py",
   "mimetype": "text/x-python",
   "name": "python",
   "nbconvert_exporter": "python",
   "pygments_lexer": "ipython3",
   "version": "3.8.5"
  }
 },
 "nbformat": 4,
 "nbformat_minor": 4
}
