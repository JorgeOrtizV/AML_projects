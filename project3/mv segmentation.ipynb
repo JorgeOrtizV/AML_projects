{
 "cells": [
  {
   "cell_type": "code",
   "execution_count": 1,
   "metadata": {
    "colab": {
     "base_uri": "https://localhost:8080/"
    },
    "executionInfo": {
     "elapsed": 19137,
     "status": "ok",
     "timestamp": 1734384051847,
     "user": {
      "displayName": "ZILU XIAO",
      "userId": "10761288573105859344"
     },
     "user_tz": -60
    },
    "id": "LLf5-lvud6U7",
    "outputId": "aa3bab5b-ad46-4b59-8f99-7cc3a60626a3"
   },
   "outputs": [
    {
     "ename": "ModuleNotFoundError",
     "evalue": "No module named 'google.colab'",
     "output_type": "error",
     "traceback": [
      "\u001b[0;31m---------------------------------------------------------------------------\u001b[0m",
      "\u001b[0;31mModuleNotFoundError\u001b[0m                       Traceback (most recent call last)",
      "Cell \u001b[0;32mIn[1], line 1\u001b[0m\n\u001b[0;32m----> 1\u001b[0m \u001b[38;5;28;01mfrom\u001b[39;00m \u001b[38;5;21;01mgoogle\u001b[39;00m\u001b[38;5;21;01m.\u001b[39;00m\u001b[38;5;21;01mcolab\u001b[39;00m \u001b[38;5;28;01mimport\u001b[39;00m drive\n\u001b[1;32m      2\u001b[0m drive\u001b[38;5;241m.\u001b[39mmount(\u001b[38;5;124m'\u001b[39m\u001b[38;5;124m/content/drive\u001b[39m\u001b[38;5;124m'\u001b[39m)\n",
      "\u001b[0;31mModuleNotFoundError\u001b[0m: No module named 'google.colab'"
     ]
    }
   ],
   "source": [
    "from google.colab import drive\n",
    "drive.mount('/content/drive')"
   ]
  },
  {
   "cell_type": "code",
   "execution_count": 2,
   "metadata": {
    "executionInfo": {
     "elapsed": 2883,
     "status": "ok",
     "timestamp": 1734384054729,
     "user": {
      "displayName": "ZILU XIAO",
      "userId": "10761288573105859344"
     },
     "user_tz": -60
    },
    "id": "QIxJZFNMfGXJ"
   },
   "outputs": [],
   "source": [
    "import pickle\n",
    "import numpy as np\n",
    "import torch\n",
    "import torch.nn as nn\n",
    "import torch.optim as optim"
   ]
  },
  {
   "cell_type": "code",
   "execution_count": 9,
   "metadata": {
    "executionInfo": {
     "elapsed": 9536,
     "status": "ok",
     "timestamp": 1734384064263,
     "user": {
      "displayName": "ZILU XIAO",
      "userId": "10761288573105859344"
     },
     "user_tz": -60
    },
    "id": "ziGk5S5feE1l"
   },
   "outputs": [],
   "source": [
    "with open('train_expert.pkl', 'rb') as f:\n",
    "    train_expert = pickle.load(f)\n",
    "with open('val_expert.pkl', 'rb') as f:\n",
    "    val_expert = pickle.load(f)\n",
    "with open('amateur.pkl', 'rb') as f:\n",
    "    amateur = pickle.load(f)"
   ]
  },
  {
   "cell_type": "code",
   "execution_count": 10,
   "metadata": {
    "executionInfo": {
     "elapsed": 2,
     "status": "ok",
     "timestamp": 1734384064263,
     "user": {
      "displayName": "ZILU XIAO",
      "userId": "10761288573105859344"
     },
     "user_tz": -60
    },
    "id": "GuJwrup2gx2J"
   },
   "outputs": [],
   "source": [
    "class UNet(nn.Module):\n",
    "    def __init__(self, in_channels=1, out_channels=1):\n",
    "        super(UNet, self).__init__()\n",
    "\n",
    "        def conv_block(in_ch, out_ch):\n",
    "            return nn.Sequential(\n",
    "                nn.Conv2d(in_ch, out_ch, kernel_size=3, padding=1),\n",
    "                nn.ReLU(inplace=True),\n",
    "                nn.Conv2d(out_ch, out_ch, kernel_size=3, padding=1),\n",
    "                nn.ReLU(inplace=True)\n",
    "            )\n",
    "\n",
    "        self.encoder1 = conv_block(in_channels, 64)\n",
    "        self.encoder2 = conv_block(64, 128)\n",
    "        self.encoder3 = conv_block(128, 256)\n",
    "        self.encoder4 = conv_block(256, 512)\n",
    "\n",
    "        self.pool = nn.MaxPool2d(kernel_size=2, stride=2)\n",
    "\n",
    "        self.bottleneck = conv_block(512, 1024)\n",
    "\n",
    "        self.upconv4 = nn.ConvTranspose2d(1024, 512, kernel_size=2, stride=2)\n",
    "        self.decoder4 = conv_block(1024, 512)\n",
    "        self.upconv3 = nn.ConvTranspose2d(512, 256, kernel_size=2, stride=2)\n",
    "        self.decoder3 = conv_block(512, 256)\n",
    "        self.upconv2 = nn.ConvTranspose2d(256, 128, kernel_size=2, stride=2)\n",
    "        self.decoder2 = conv_block(256, 128)\n",
    "        self.upconv1 = nn.ConvTranspose2d(128, 64, kernel_size=2, stride=2)\n",
    "        self.decoder1 = conv_block(128, 64)\n",
    "\n",
    "        self.final_conv = nn.Conv2d(64, out_channels, kernel_size=1)\n",
    "\n",
    "    def forward(self, x):\n",
    "        # Encoder\n",
    "        e1 = self.encoder1(x)\n",
    "        e2 = self.encoder2(self.pool(e1))\n",
    "        e3 = self.encoder3(self.pool(e2))\n",
    "        e4 = self.encoder4(self.pool(e3))\n",
    "\n",
    "        # Bottleneck\n",
    "        b = self.bottleneck(self.pool(e4))\n",
    "\n",
    "        # Decoder\n",
    "        d4 = self.upconv4(b)\n",
    "        d4 = torch.cat((e4, d4), dim=1)\n",
    "        d4 = self.decoder4(d4)\n",
    "\n",
    "        d3 = self.upconv3(d4)\n",
    "        d3 = torch.cat((e3, d3), dim=1)\n",
    "        d3 = self.decoder3(d3)\n",
    "\n",
    "        d2 = self.upconv2(d3)\n",
    "        d2 = torch.cat((e2, d2), dim=1)\n",
    "        d2 = self.decoder2(d2)\n",
    "\n",
    "        d1 = self.upconv1(d2)\n",
    "        d1 = torch.cat((e1, d1), dim=1)\n",
    "        d1 = self.decoder1(d1)\n",
    "\n",
    "        # Final output\n",
    "        out = self.final_conv(d1)\n",
    "        return out"
   ]
  },
  {
   "cell_type": "code",
   "execution_count": 11,
   "metadata": {
    "executionInfo": {
     "elapsed": 2,
     "status": "ok",
     "timestamp": 1734384064264,
     "user": {
      "displayName": "ZILU XIAO",
      "userId": "10761288573105859344"
     },
     "user_tz": -60
    },
    "id": "bggcCtqD3JUo"
   },
   "outputs": [],
   "source": [
    "class FocalLoss(nn.Module):\n",
    "    def __init__(self, alpha=0.25, gamma=2.0):\n",
    "        super(FocalLoss, self).__init__()\n",
    "        self.alpha = alpha\n",
    "        self.gamma = gamma\n",
    "\n",
    "    def forward(self, logits, targets):\n",
    "        probs = torch.sigmoid(logits)\n",
    "        targets = targets.float()\n",
    "\n",
    "        ce_loss = nn.BCEWithLogitsLoss(reduction='none')(logits, targets)\n",
    "        p_t = probs * targets + (1 - probs) * (1 - targets)\n",
    "        focal_weight = self.alpha * (1 - p_t) ** self.gamma\n",
    "\n",
    "        loss = focal_weight * ce_loss\n",
    "        return loss.mean()"
   ]
  },
  {
   "cell_type": "code",
   "execution_count": 12,
   "metadata": {
    "executionInfo": {
     "elapsed": 4328,
     "status": "ok",
     "timestamp": 1734384068590,
     "user": {
      "displayName": "ZILU XIAO",
      "userId": "10761288573105859344"
     },
     "user_tz": -60
    },
    "id": "v_uXunurhcIG"
   },
   "outputs": [],
   "source": [
    "from torch.utils.data import DataLoader, Dataset\n",
    "from torchvision.transforms.functional import resize\n",
    "class MitralDataset(Dataset):\n",
    "    def __init__(self, data, target_size=(512, 512)):\n",
    "        self.data = data\n",
    "        self.target_size = target_size\n",
    "\n",
    "    def __len__(self):\n",
    "        return len(self.data)\n",
    "\n",
    "    def __getitem__(self, idx):\n",
    "        frame = self.data[idx]['frame']\n",
    "        label = self.data[idx]['label']\n",
    "        box = self.data[idx]['box']\n",
    "\n",
    "        frame_tensor = torch.tensor(frame, dtype=torch.float32).unsqueeze(0)\n",
    "        label_tensor = torch.tensor(label, dtype=torch.float32).unsqueeze(0)\n",
    "        box_tensor = torch.tensor(box, dtype=torch.float32).unsqueeze(0)\n",
    "\n",
    "        frame_tensor = resize(frame_tensor, self.target_size)\n",
    "        label_tensor = resize(label_tensor, self.target_size)\n",
    "        box_tensor = resize(box_tensor, self.target_size)\n",
    "\n",
    "\n",
    "        return frame_tensor, label_tensor, box_tensor\n"
   ]
  },
  {
   "cell_type": "code",
   "execution_count": 19,
   "metadata": {
    "executionInfo": {
     "elapsed": 3,
     "status": "ok",
     "timestamp": 1734384068590,
     "user": {
      "displayName": "ZILU XIAO",
      "userId": "10761288573105859344"
     },
     "user_tz": -60
    },
    "id": "8oDn91IHhlt1"
   },
   "outputs": [],
   "source": [
    "from torch.utils.data import WeightedRandomSampler\n",
    "\n",
    "device = torch.device(\"cuda\" if torch.cuda.is_available() else \"cpu\")\n",
    "\n",
    "# Use amateur only for training since test dataset is only professional\n",
    "amateur_dataset = MitralDataset(amateur)\n",
    "professional_train_dataset = MitralDataset(train_expert)\n",
    "professional_val_dataset = MitralDataset(val_expert)\n",
    "\n",
    "train_dataset = amateur_dataset + professional_train_dataset\n",
    "val_dataset = professional_val_dataset\n",
    "\n",
    "# define weights\n",
    "amateur_weight = 1.0\n",
    "professional_weight = 5.0\n",
    "weights = (\n",
    "    [amateur_weight] * len(amateur_dataset) +\n",
    "    [professional_weight] * len(professional_train_dataset)\n",
    ")\n",
    "\n",
    "weighted_sampler = WeightedRandomSampler(weights, num_samples=len(weights), replacement=True)\n",
    "train_loader = DataLoader(train_dataset, sampler=weighted_sampler, batch_size=4, shuffle=False)\n",
    "val_loader = DataLoader(val_dataset, batch_size=4, shuffle=False)"
   ]
  },
  {
   "cell_type": "code",
   "execution_count": 20,
   "metadata": {
    "executionInfo": {
     "elapsed": 3,
     "status": "ok",
     "timestamp": 1734384068590,
     "user": {
      "displayName": "ZILU XIAO",
      "userId": "10761288573105859344"
     },
     "user_tz": -60
    },
    "id": "5Y5l3Yc1ifvJ"
   },
   "outputs": [],
   "source": [
    "model = UNet()\n",
    "optimizer = optim.Adam(model.parameters(), lr=1e-4)\n",
    "criterion = FocalLoss(alpha=0.25, gamma=2.0)\n",
    "epochs = 20\n"
   ]
  },
  {
   "cell_type": "code",
   "execution_count": 21,
   "metadata": {
    "executionInfo": {
     "elapsed": 2,
     "status": "ok",
     "timestamp": 1734384068590,
     "user": {
      "displayName": "ZILU XIAO",
      "userId": "10761288573105859344"
     },
     "user_tz": -60
    },
    "id": "VMTJPh-Nijtp"
   },
   "outputs": [],
   "source": [
    "def calculate_iou(predictions, labels):\n",
    "    predictions = predictions.bool()\n",
    "    labels = labels.bool()\n",
    "\n",
    "    intersection = (predictions & labels).sum(dim=(1, 2, 3))\n",
    "    union = (predictions | labels).sum(dim=(1, 2, 3))\n",
    "\n",
    "    iou = intersection / (union + 1e-8)\n",
    "    return iou.mean().item()"
   ]
  },
  {
   "cell_type": "code",
   "execution_count": 22,
   "metadata": {
    "colab": {
     "base_uri": "https://localhost:8080/"
    },
    "executionInfo": {
     "elapsed": 1184160,
     "status": "ok",
     "timestamp": 1734385252748,
     "user": {
      "displayName": "ZILU XIAO",
      "userId": "10761288573105859344"
     },
     "user_tz": -60
    },
    "id": "bs9w9u-7jUvY",
    "outputId": "c09e47b0-eada-4682-db76-ce46d6d4b609"
   },
   "outputs": [
    {
     "ename": "OutOfMemoryError",
     "evalue": "CUDA out of memory. Tried to allocate 256.00 MiB. GPU 0 has a total capacity of 3.63 GiB of which 213.94 MiB is free. Including non-PyTorch memory, this process has 3.41 GiB memory in use. Of the allocated memory 3.33 GiB is allocated by PyTorch, and 25.75 MiB is reserved by PyTorch but unallocated. If reserved but unallocated memory is large try setting PYTORCH_CUDA_ALLOC_CONF=expandable_segments:True to avoid fragmentation.  See documentation for Memory Management  (https://pytorch.org/docs/stable/notes/cuda.html#environment-variables)",
     "output_type": "error",
     "traceback": [
      "\u001b[0;31m---------------------------------------------------------------------------\u001b[0m",
      "\u001b[0;31mOutOfMemoryError\u001b[0m                          Traceback (most recent call last)",
      "Cell \u001b[0;32mIn[22], line 11\u001b[0m\n\u001b[1;32m      8\u001b[0m outputs \u001b[38;5;241m=\u001b[39m model(images)\n\u001b[1;32m      9\u001b[0m loss \u001b[38;5;241m=\u001b[39m criterion(outputs, labels)\n\u001b[0;32m---> 11\u001b[0m \u001b[43mloss\u001b[49m\u001b[38;5;241;43m.\u001b[39;49m\u001b[43mbackward\u001b[49m\u001b[43m(\u001b[49m\u001b[43m)\u001b[49m\n\u001b[1;32m     12\u001b[0m optimizer\u001b[38;5;241m.\u001b[39mstep()\n\u001b[1;32m     14\u001b[0m epoch_loss \u001b[38;5;241m+\u001b[39m\u001b[38;5;241m=\u001b[39m loss\u001b[38;5;241m.\u001b[39mitem()\n",
      "File \u001b[0;32m~/src/AML_projects/project3/.venv/lib/python3.12/site-packages/torch/_tensor.py:581\u001b[0m, in \u001b[0;36mTensor.backward\u001b[0;34m(self, gradient, retain_graph, create_graph, inputs)\u001b[0m\n\u001b[1;32m    571\u001b[0m \u001b[38;5;28;01mif\u001b[39;00m has_torch_function_unary(\u001b[38;5;28mself\u001b[39m):\n\u001b[1;32m    572\u001b[0m     \u001b[38;5;28;01mreturn\u001b[39;00m handle_torch_function(\n\u001b[1;32m    573\u001b[0m         Tensor\u001b[38;5;241m.\u001b[39mbackward,\n\u001b[1;32m    574\u001b[0m         (\u001b[38;5;28mself\u001b[39m,),\n\u001b[0;32m   (...)\u001b[0m\n\u001b[1;32m    579\u001b[0m         inputs\u001b[38;5;241m=\u001b[39minputs,\n\u001b[1;32m    580\u001b[0m     )\n\u001b[0;32m--> 581\u001b[0m \u001b[43mtorch\u001b[49m\u001b[38;5;241;43m.\u001b[39;49m\u001b[43mautograd\u001b[49m\u001b[38;5;241;43m.\u001b[39;49m\u001b[43mbackward\u001b[49m\u001b[43m(\u001b[49m\n\u001b[1;32m    582\u001b[0m \u001b[43m    \u001b[49m\u001b[38;5;28;43mself\u001b[39;49m\u001b[43m,\u001b[49m\u001b[43m \u001b[49m\u001b[43mgradient\u001b[49m\u001b[43m,\u001b[49m\u001b[43m \u001b[49m\u001b[43mretain_graph\u001b[49m\u001b[43m,\u001b[49m\u001b[43m \u001b[49m\u001b[43mcreate_graph\u001b[49m\u001b[43m,\u001b[49m\u001b[43m \u001b[49m\u001b[43minputs\u001b[49m\u001b[38;5;241;43m=\u001b[39;49m\u001b[43minputs\u001b[49m\n\u001b[1;32m    583\u001b[0m \u001b[43m\u001b[49m\u001b[43m)\u001b[49m\n",
      "File \u001b[0;32m~/src/AML_projects/project3/.venv/lib/python3.12/site-packages/torch/autograd/__init__.py:347\u001b[0m, in \u001b[0;36mbackward\u001b[0;34m(tensors, grad_tensors, retain_graph, create_graph, grad_variables, inputs)\u001b[0m\n\u001b[1;32m    342\u001b[0m     retain_graph \u001b[38;5;241m=\u001b[39m create_graph\n\u001b[1;32m    344\u001b[0m \u001b[38;5;66;03m# The reason we repeat the same comment below is that\u001b[39;00m\n\u001b[1;32m    345\u001b[0m \u001b[38;5;66;03m# some Python versions print out the first line of a multi-line function\u001b[39;00m\n\u001b[1;32m    346\u001b[0m \u001b[38;5;66;03m# calls in the traceback and some print out the last line\u001b[39;00m\n\u001b[0;32m--> 347\u001b[0m \u001b[43m_engine_run_backward\u001b[49m\u001b[43m(\u001b[49m\n\u001b[1;32m    348\u001b[0m \u001b[43m    \u001b[49m\u001b[43mtensors\u001b[49m\u001b[43m,\u001b[49m\n\u001b[1;32m    349\u001b[0m \u001b[43m    \u001b[49m\u001b[43mgrad_tensors_\u001b[49m\u001b[43m,\u001b[49m\n\u001b[1;32m    350\u001b[0m \u001b[43m    \u001b[49m\u001b[43mretain_graph\u001b[49m\u001b[43m,\u001b[49m\n\u001b[1;32m    351\u001b[0m \u001b[43m    \u001b[49m\u001b[43mcreate_graph\u001b[49m\u001b[43m,\u001b[49m\n\u001b[1;32m    352\u001b[0m \u001b[43m    \u001b[49m\u001b[43minputs\u001b[49m\u001b[43m,\u001b[49m\n\u001b[1;32m    353\u001b[0m \u001b[43m    \u001b[49m\u001b[43mallow_unreachable\u001b[49m\u001b[38;5;241;43m=\u001b[39;49m\u001b[38;5;28;43;01mTrue\u001b[39;49;00m\u001b[43m,\u001b[49m\n\u001b[1;32m    354\u001b[0m \u001b[43m    \u001b[49m\u001b[43maccumulate_grad\u001b[49m\u001b[38;5;241;43m=\u001b[39;49m\u001b[38;5;28;43;01mTrue\u001b[39;49;00m\u001b[43m,\u001b[49m\n\u001b[1;32m    355\u001b[0m \u001b[43m\u001b[49m\u001b[43m)\u001b[49m\n",
      "File \u001b[0;32m~/src/AML_projects/project3/.venv/lib/python3.12/site-packages/torch/autograd/graph.py:825\u001b[0m, in \u001b[0;36m_engine_run_backward\u001b[0;34m(t_outputs, *args, **kwargs)\u001b[0m\n\u001b[1;32m    823\u001b[0m     unregister_hooks \u001b[38;5;241m=\u001b[39m _register_logging_hooks_on_whole_graph(t_outputs)\n\u001b[1;32m    824\u001b[0m \u001b[38;5;28;01mtry\u001b[39;00m:\n\u001b[0;32m--> 825\u001b[0m     \u001b[38;5;28;01mreturn\u001b[39;00m \u001b[43mVariable\u001b[49m\u001b[38;5;241;43m.\u001b[39;49m\u001b[43m_execution_engine\u001b[49m\u001b[38;5;241;43m.\u001b[39;49m\u001b[43mrun_backward\u001b[49m\u001b[43m(\u001b[49m\u001b[43m  \u001b[49m\u001b[38;5;66;43;03m# Calls into the C++ engine to run the backward pass\u001b[39;49;00m\n\u001b[1;32m    826\u001b[0m \u001b[43m        \u001b[49m\u001b[43mt_outputs\u001b[49m\u001b[43m,\u001b[49m\u001b[43m \u001b[49m\u001b[38;5;241;43m*\u001b[39;49m\u001b[43margs\u001b[49m\u001b[43m,\u001b[49m\u001b[43m \u001b[49m\u001b[38;5;241;43m*\u001b[39;49m\u001b[38;5;241;43m*\u001b[39;49m\u001b[43mkwargs\u001b[49m\n\u001b[1;32m    827\u001b[0m \u001b[43m    \u001b[49m\u001b[43m)\u001b[49m  \u001b[38;5;66;03m# Calls into the C++ engine to run the backward pass\u001b[39;00m\n\u001b[1;32m    828\u001b[0m \u001b[38;5;28;01mfinally\u001b[39;00m:\n\u001b[1;32m    829\u001b[0m     \u001b[38;5;28;01mif\u001b[39;00m attach_logging_hooks:\n",
      "\u001b[0;31mOutOfMemoryError\u001b[0m: CUDA out of memory. Tried to allocate 256.00 MiB. GPU 0 has a total capacity of 3.63 GiB of which 213.94 MiB is free. Including non-PyTorch memory, this process has 3.41 GiB memory in use. Of the allocated memory 3.33 GiB is allocated by PyTorch, and 25.75 MiB is reserved by PyTorch but unallocated. If reserved but unallocated memory is large try setting PYTORCH_CUDA_ALLOC_CONF=expandable_segments:True to avoid fragmentation.  See documentation for Memory Management  (https://pytorch.org/docs/stable/notes/cuda.html#environment-variables)"
     ]
    }
   ],
   "source": [
    "model.to(device)\n",
    "for epoch in range(epochs):\n",
    "    model.train()\n",
    "    epoch_loss = 0.0\n",
    "    for images, labels, _ in train_loader:\n",
    "        images, labels= images.to(device), labels.to(device)\n",
    "        optimizer.zero_grad()\n",
    "        outputs = model(images)\n",
    "        loss = criterion(outputs, labels)\n",
    "\n",
    "        loss.backward()\n",
    "        optimizer.step()\n",
    "\n",
    "        epoch_loss += loss.item()\n",
    "\n",
    "    print(f\"Epoch [{epoch + 1}/{epochs}], Loss: {epoch_loss / len(train_loader):.4f}\")\n",
    "\n",
    "    # Evaluate IoU on validation set\n",
    "    model.eval()\n",
    "    total_iou = 0.0\n",
    "    with torch.no_grad():\n",
    "        for val_images, val_labels,_ in val_loader:\n",
    "            val_images, val_labels = val_images.to(device), val_labels.to(device)\n",
    "            output = model(val_images)\n",
    "            val_predictions = (torch.sigmoid(output) > 0.5).float()\n",
    "            total_iou += calculate_iou(val_predictions, val_labels)\n",
    "    avg_iou = total_iou / len(val_loader)\n",
    "    print(f\"Epoch [{epoch + 1}/{epochs}], Validation IoU: {avg_iou:.4f}\")"
   ]
  },
  {
   "cell_type": "code",
   "execution_count": 13,
   "metadata": {
    "executionInfo": {
     "elapsed": 9090,
     "status": "ok",
     "timestamp": 1734385261836,
     "user": {
      "displayName": "ZILU XIAO",
      "userId": "10761288573105859344"
     },
     "user_tz": -60
    },
    "id": "O4aLr5wikUaO"
   },
   "outputs": [],
   "source": [
    "import gzip\n",
    "with gzip.open('/content/drive/MyDrive/AML_project3/test.pkl', 'rb') as f:\n",
    "    test = pickle.load(f)"
   ]
  },
  {
   "cell_type": "code",
   "execution_count": 14,
   "metadata": {
    "executionInfo": {
     "elapsed": 2,
     "status": "ok",
     "timestamp": 1734385261836,
     "user": {
      "displayName": "ZILU XIAO",
      "userId": "10761288573105859344"
     },
     "user_tz": -60
    },
    "id": "IDBoelKxxfAQ"
   },
   "outputs": [],
   "source": [
    "# def get_sequences(arr):\n",
    "#     first_indices, last_indices, lengths = [], [], []\n",
    "#     n, i = len(arr), 0\n",
    "#     arr = [0] + list(arr) + [0]\n",
    "#     for index, value in enumerate(arr[:-1]):\n",
    "#         if arr[index+1]-arr[index] == 1:\n",
    "#             first_indices.append(index)\n",
    "#         if arr[index+1]-arr[index] == -1:\n",
    "#             last_indices.append(index)\n",
    "#     lengths = list(np.array(last_indices)-np.array(first_indices))\n",
    "#     return first_indices, lengths"
   ]
  },
  {
   "cell_type": "code",
   "execution_count": 17,
   "metadata": {
    "executionInfo": {
     "elapsed": 386,
     "status": "ok",
     "timestamp": 1734385536358,
     "user": {
      "displayName": "ZILU XIAO",
      "userId": "10761288573105859344"
     },
     "user_tz": -60
    },
    "id": "PCwZYkfHbvG7"
   },
   "outputs": [],
   "source": [
    "def get_sequences(arr):\n",
    "    arr = np.concatenate(([0], arr, [0]))\n",
    "    changes = np.diff(arr)\n",
    "    starts = np.where(changes == 1)[0]\n",
    "    ends = np.where(changes == -1)[0]\n",
    "    lengths = ends - starts\n",
    "    return starts, lengths"
   ]
  },
  {
   "cell_type": "code",
   "execution_count": 18,
   "metadata": {
    "executionInfo": {
     "elapsed": 397,
     "status": "ok",
     "timestamp": 1734385539436,
     "user": {
      "displayName": "ZILU XIAO",
      "userId": "10761288573105859344"
     },
     "user_tz": -60
    },
    "id": "y6Yx8Gj2Iybo"
   },
   "outputs": [],
   "source": [
    "class TestDataset(Dataset):\n",
    "    def __init__(self, test_data):\n",
    "        self.test_data = test_data\n",
    "\n",
    "    def __len__(self):\n",
    "        return len(self.test_data)\n",
    "\n",
    "    def __getitem__(self, idx):\n",
    "        video_name = self.test_data[idx]['name']\n",
    "        video_frames = self.test_data[idx]['video']\n",
    "\n",
    "        frames_tensor = torch.tensor(video_frames, dtype=torch.float32).permute(2, 0, 1)\n",
    "\n",
    "        return video_name, frames_tensor\n",
    "\n",
    "test_dataset = TestDataset(test)\n",
    "test_loader = DataLoader(test_dataset, batch_size=1, shuffle=False)"
   ]
  },
  {
   "cell_type": "code",
   "execution_count": 19,
   "metadata": {
    "executionInfo": {
     "elapsed": 125760,
     "status": "ok",
     "timestamp": 1734385666259,
     "user": {
      "displayName": "ZILU XIAO",
      "userId": "10761288573105859344"
     },
     "user_tz": -60
    },
    "id": "h9WPXZvnid9K"
   },
   "outputs": [],
   "source": [
    "import cv2\n",
    "from torchvision.transforms.functional import resize\n",
    "\n",
    "model.eval()\n",
    "submission_data = []\n",
    "threshold = 0.5\n",
    "with torch.no_grad():\n",
    "    for video_name, frames_tensor in test_loader:\n",
    "        video_name = video_name[0]\n",
    "        frames_tensor = frames_tensor.squeeze(0).to(device)  # [num_frames, H, W]\n",
    "        num_frames, original_height, original_width = frames_tensor.shape\n",
    "        target_size = (512, 512)\n",
    "\n",
    "        labels_tensor = torch.zeros((num_frames, original_height, original_width), dtype=torch.uint8)\n",
    "\n",
    "        for frame_idx in range(num_frames):\n",
    "\n",
    "            frame = frames_tensor[frame_idx].unsqueeze(0).unsqueeze(0)  # [1, 1, H, W]\n",
    "            resized_frame = resize(frame, target_size).to(device)      # [1, 1, 512, 512]\n",
    "\n",
    "\n",
    "            output = model(resized_frame)  # [1, 1, 512, 512]\n",
    "            predicted_mask = torch.sigmoid(output).squeeze().cpu().numpy()  # [512, 512]\n",
    "\n",
    "            restored_mask = cv2.resize(predicted_mask, (original_width, original_height), interpolation=cv2.INTER_NEAREST)\n",
    "\n",
    "            labels_tensor[frame_idx] = torch.from_numpy((restored_mask > threshold).astype(np.uint8))\n",
    "\n",
    "\n",
    "        labels_tensor = labels_tensor.permute(1, 2, 0)  # [H, W, num_frames]\n",
    "\n",
    "        flattened_labels = labels_tensor.flatten()\n",
    "        start_indices, lengths = get_sequences(flattened_labels)\n",
    "\n",
    "        record_counter = 0\n",
    "        for start_idx, length in zip(start_indices, lengths):\n",
    "            submission_data.append({\n",
    "                \"id\": f\"{video_name}_{record_counter}\",\n",
    "                \"value\": f\"[{start_idx}, {length}]\"\n",
    "            })\n",
    "            record_counter += 1"
   ]
  },
  {
   "cell_type": "code",
   "execution_count": 20,
   "metadata": {
    "colab": {
     "base_uri": "https://localhost:8080/"
    },
    "executionInfo": {
     "elapsed": 611,
     "status": "ok",
     "timestamp": 1734385679094,
     "user": {
      "displayName": "ZILU XIAO",
      "userId": "10761288573105859344"
     },
     "user_tz": -60
    },
    "id": "AcTQ1K3AQs84",
    "outputId": "9c4b715f-0865-4739-9f30-39f838dcfdc1"
   },
   "outputs": [
    {
     "name": "stdout",
     "output_type": "stream",
     "text": [
      "[{'id': 'E9AHVWGBUF_0', 'value': '[14074383, 1]'}, {'id': 'E9AHVWGBUF_1', 'value': '[14074486, 1]'}, {'id': 'E9AHVWGBUF_2', 'value': '[14074589, 2]'}, {'id': 'E9AHVWGBUF_3', 'value': '[14158946, 1]'}, {'id': 'E9AHVWGBUF_4', 'value': '[14159049, 1]'}, {'id': 'E9AHVWGBUF_5', 'value': '[14159152, 2]'}, {'id': 'E9AHVWGBUF_6', 'value': '[14243510, 1]'}, {'id': 'E9AHVWGBUF_7', 'value': '[14243613, 1]'}, {'id': 'E9AHVWGBUF_8', 'value': '[14243715, 2]'}, {'id': 'E9AHVWGBUF_9', 'value': '[14327867, 1]'}]\n"
     ]
    }
   ],
   "source": [
    "print(submission_data[:10])"
   ]
  },
  {
   "cell_type": "code",
   "execution_count": 21,
   "metadata": {
    "colab": {
     "base_uri": "https://localhost:8080/"
    },
    "executionInfo": {
     "elapsed": 405,
     "status": "ok",
     "timestamp": 1734385690163,
     "user": {
      "displayName": "ZILU XIAO",
      "userId": "10761288573105859344"
     },
     "user_tz": -60
    },
    "id": "4kQILrs5vLgy",
    "outputId": "f7dc0335-0a11-4d36-c12f-c26600191aea"
   },
   "outputs": [
    {
     "name": "stdout",
     "output_type": "stream",
     "text": [
      "939481\n"
     ]
    }
   ],
   "source": [
    "print(len(submission_data))"
   ]
  },
  {
   "cell_type": "code",
   "execution_count": 22,
   "metadata": {
    "executionInfo": {
     "elapsed": 1935,
     "status": "ok",
     "timestamp": 1734385694566,
     "user": {
      "displayName": "ZILU XIAO",
      "userId": "10761288573105859344"
     },
     "user_tz": -60
    },
    "id": "8tBL3wG1JYZk"
   },
   "outputs": [],
   "source": [
    "import pandas as pd\n",
    "\n",
    "df = pd.DataFrame(submission_data)\n",
    "df.to_csv(\"predictions.csv\", index=False)"
   ]
  },
  {
   "cell_type": "code",
   "execution_count": null,
   "metadata": {
    "executionInfo": {
     "elapsed": 4,
     "status": "aborted",
     "timestamp": 1734385466109,
     "user": {
      "displayName": "ZILU XIAO",
      "userId": "10761288573105859344"
     },
     "user_tz": -60
    },
    "id": "jsqh16j0d9wf"
   },
   "outputs": [],
   "source": []
  }
 ],
 "metadata": {
  "accelerator": "GPU",
  "colab": {
   "authorship_tag": "ABX9TyMd3FNjD5MqOU0ZJJc+OcxE",
   "gpuType": "T4",
   "machine_shape": "hm",
   "provenance": []
  },
  "kernelspec": {
   "display_name": ".venv",
   "language": "python",
   "name": "python3"
  },
  "language_info": {
   "codemirror_mode": {
    "name": "ipython",
    "version": 3
   },
   "file_extension": ".py",
   "mimetype": "text/x-python",
   "name": "python",
   "nbconvert_exporter": "python",
   "pygments_lexer": "ipython3",
   "version": "3.12.7"
  }
 },
 "nbformat": 4,
 "nbformat_minor": 4
}
