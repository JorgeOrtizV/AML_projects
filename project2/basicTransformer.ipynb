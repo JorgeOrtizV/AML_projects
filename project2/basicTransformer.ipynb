{
 "cells": [
  {
   "cell_type": "code",
   "execution_count": 1,
   "metadata": {},
   "outputs": [],
   "source": [
    "import csv\n",
    "import os\n",
    "\n",
    "import numpy as np\n",
    "import pandas as pd\n",
    "import torch\n",
    "from torch.nn.utils.rnn import pad_sequence"
   ]
  },
  {
   "cell_type": "code",
   "execution_count": 2,
   "metadata": {},
   "outputs": [],
   "source": [
    "import pickle\n",
    "\n",
    "with open('data/processed_train_dataset.pkl', 'rb') as f:\n",
    "    result_data = pickle.load(f)\n",
    "\n",
    "X = result_data['heartbeat']\n",
    "y = result_data['y']"
   ]
  },
  {
   "cell_type": "code",
   "execution_count": 3,
   "metadata": {},
   "outputs": [],
   "source": [
    "from torch.nn.utils.rnn import pad_sequence\n",
    "from torch.utils.data import Dataset, DataLoader\n",
    "import torch\n",
    "from sklearn.preprocessing import StandardScaler\n",
    "from sklearn.model_selection import train_test_split\n",
    "\n",
    "filtered_X_tensors = []\n",
    "filtered_y_tensors = []\n",
    "\n",
    "# Some entries in X have length 0 (for some reason?) so we filter them out\n",
    "for i, heartbeat_sequence in enumerate(X):\n",
    "    tensor = torch.tensor(heartbeat_sequence, dtype=torch.float32)\n",
    "    if tensor.size(0) > 0:\n",
    "        filtered_X_tensors.append(tensor)\n",
    "        filtered_y_tensors.append(y[i])\n",
    "\n",
    "# Scale data\n",
    "\n",
    "# first we flatten\n",
    "flattened_data = np.concatenate([tensor.numpy() for tensor in filtered_X_tensors], axis=0)\n",
    "# fit the scaler\n",
    "scaler = StandardScaler()\n",
    "scaler.fit(flattened_data)\n",
    "# apply the scaler to each separate tensor\n",
    "for i in range(len(filtered_X_tensors)):\n",
    "    data = filtered_X_tensors[i].numpy()\n",
    "    data_scaled = scaler.transform(data)\n",
    "    filtered_X_tensors[i] = torch.tensor(data_scaled, dtype=torch.float32)\n",
    "\n",
    "# Padding for signals w/dfferent number of heartbeats\n",
    "X_padded = pad_sequence(filtered_X_tensors, batch_first=True, padding_value=0.0)\n",
    "# Mask of padded values\n",
    "attention_mask = (X_padded != 0.0).any(dim=-1)\n",
    "\n",
    "y_tensors = torch.tensor(filtered_y_tensors, dtype=torch.long)\n",
    "\n",
    "X_train, X_val, y_train, y_val, attention_train, attention_val = train_test_split(\n",
    "    X_padded, y_tensors, attention_mask, test_size=0.2, random_state=42\n",
    ")"
   ]
  },
  {
   "cell_type": "markdown",
   "metadata": {},
   "source": [
    "## Transformer architecture"
   ]
  },
  {
   "cell_type": "code",
   "execution_count": 4,
   "metadata": {},
   "outputs": [],
   "source": [
    "# Simple dataset\n",
    "class ECGDataset(Dataset):\n",
    "    def __init__(self, signals, labels, masks):\n",
    "        self.signals = signals\n",
    "        self.labels = labels\n",
    "        self.masks = masks\n",
    "\n",
    "    def __len__(self):\n",
    "        return len(self.signals)\n",
    "\n",
    "    def __getitem__(self, idx):\n",
    "        signal = self.signals[idx]\n",
    "        label = self.labels[idx]\n",
    "        mask = self.masks[idx]\n",
    "        return signal, label, mask"
   ]
  },
  {
   "cell_type": "markdown",
   "metadata": {},
   "source": [
    "### Sinusoidal positonal encoding\n",
    "Work in progress, sinusoidal embedding is supposedly better for sequential data"
   ]
  },
  {
   "cell_type": "code",
   "execution_count": 5,
   "metadata": {},
   "outputs": [],
   "source": [
    "import torch\n",
    "import torch.nn as nn\n",
    "import numpy as np\n",
    "\n",
    "class SinusoidalPositionalEncoding(nn.Module):\n",
    "    def __init__(self, d_model, max_len=5000):\n",
    "        super(SinusoidalPositionalEncoding, self).__init__()\n",
    "        positional_encoding = torch.zeros(max_len, d_model)\n",
    "\n",
    "        position = torch.arange(0, max_len, dtype=torch.float).unsqueeze(1)\n",
    "        div_term = torch.exp(torch.arange(0, d_model, 2).float() * -(np.log(10000.0) / d_model))\n",
    "\n",
    "        positional_encoding[:, 0::2] = torch.sin(position * div_term)\n",
    "        positional_encoding[:, 1::2] = torch.cos(position * div_term)\n",
    "\n",
    "        positional_encoding = positional_encoding.unsqueeze(0)\n",
    "\n",
    "        self.register_buffer('positional_encoding', positional_encoding)\n",
    "\n",
    "    def forward(self, x):\n",
    "        seq_len = x.size(1)\n",
    "        return x + self.positional_encoding[:, :seq_len, :]"
   ]
  },
  {
   "cell_type": "markdown",
   "metadata": {},
   "source": [
    "### Transformer layer\n",
    "Custom transformer layer.\n",
    "Like above, still a work in progress, not implemented into transformer fully (tried but it didn't work for some reason)."
   ]
  },
  {
   "cell_type": "code",
   "execution_count": 6,
   "metadata": {},
   "outputs": [],
   "source": [
    "# Custom transformer layer arch.\n",
    "# Currently not in use/work in progress\n",
    "class CustomTransformerEncoderLayer(nn.Module):\n",
    "    def __init__(self, d_model, num_heads, ff_dim, dropout=0.1):\n",
    "        super(CustomTransformerEncoderLayer, self).__init__()\n",
    "        self.self_attn = nn.MultiheadAttention(embed_dim=d_model, num_heads=num_heads, dropout=dropout, batch_first=True)\n",
    "        # feedforward\n",
    "        self.feed_forward = nn.Sequential(\n",
    "            nn.Linear(d_model, ff_dim),\n",
    "            nn.ReLU(),\n",
    "            nn.Linear(ff_dim, d_model)\n",
    "        )\n",
    "        # normalization\n",
    "        self.norm1 = nn.LayerNorm(d_model)\n",
    "        self.norm2 = nn.LayerNorm(d_model)\n",
    "        # dropout\n",
    "        self.dropout = nn.Dropout(dropout)\n",
    "\n",
    "    def forward(self, x, src_key_padding_mask):\n",
    "        # Self-Attention with residual connection and LayerNorm\n",
    "        attn_output, _ = self.self_attn(x, x, x, key_padding_mask=src_key_padding_mask)\n",
    "        x = x + self.dropout(attn_output)\n",
    "        x = self.norm1(x)\n",
    "\n",
    "        # feedforward with res. connection and norm\n",
    "        ff_output = self.feed_forward(x)\n",
    "        x = x + self.dropout(ff_output)\n",
    "        x = self.norm2(x)\n",
    "\n",
    "        return x"
   ]
  },
  {
   "cell_type": "markdown",
   "metadata": {},
   "source": [
    "### Transformer architecture"
   ]
  },
  {
   "cell_type": "code",
   "execution_count": 7,
   "metadata": {},
   "outputs": [],
   "source": [
    "import torch\n",
    "import torch.nn as nn\n",
    "\n",
    "# Transformer arch\n",
    "class TransformerClassifier(nn.Module):\n",
    "    def __init__(\n",
    "        self, heartbeat_size, num_classes, d_model=64, num_heads=4, num_layers=4, ff_dim=256, dropout=0.1, max_seq_len=1000\n",
    "    ):\n",
    "        super(TransformerClassifier, self).__init__()\n",
    "        self.embedding = nn.Linear(heartbeat_size, d_model)\n",
    "        self.dropout = nn.Dropout(dropout)\n",
    "\n",
    "        # Positional encoding\n",
    "        # TODO: investigate other approaches?\n",
    "        # self.positional_encoding = nn.Embedding(max_seq_len, d_model)\n",
    "        self.positional_encoding = SinusoidalPositionalEncoding(d_model, max_len=max_seq_len)\n",
    "\n",
    "        # Transformer encoder\n",
    "        # TODO: when implemented, replace with custom encoder\n",
    "        encoder_layer = nn.TransformerEncoderLayer(\n",
    "            d_model=d_model, nhead=num_heads, dim_feedforward=ff_dim, dropout=dropout, batch_first=True\n",
    "        )\n",
    "        self.transformer_encoder = nn.TransformerEncoder(encoder_layer, num_layers=num_layers)\n",
    "\n",
    "        # TODO: more layers?\n",
    "        # Classifier\n",
    "        self.classifier = nn.Sequential(\n",
    "            # nn.Linear(d_model, 128),\n",
    "            # nn.ReLU(),\n",
    "            # nn.Dropout(dropout),\n",
    "            # nn.Linear(128, num_classes)\n",
    "            nn.Linear(d_model, 256),\n",
    "            nn.ReLU(),\n",
    "            nn.Dropout(dropout),\n",
    "            nn.Linear(256, 128),\n",
    "            nn.ReLU(),\n",
    "            nn.Dropout(dropout),\n",
    "            nn.Linear(128, 64),\n",
    "            nn.ReLU(),\n",
    "            nn.Dropout(dropout),\n",
    "            nn.Linear(64, num_classes)\n",
    "        )\n",
    "\n",
    "    def forward(self, x, mask):\n",
    "        batch_size, seq_length, _ = x.size()\n",
    "\n",
    "        #positions = torch.arange(0, seq_length, device=x.device).unsqueeze(0).expand(batch_size, seq_length)\n",
    "        #x = self.embedding(x) + self.positional_encoding(positions)\n",
    "        x = self.embedding(x)\n",
    "        x = self.positional_encoding(x)\n",
    "        x = self.dropout(x)\n",
    "\n",
    "        # Remember the mask to ignore padded values\n",
    "        x = self.transformer_encoder(x, src_key_padding_mask=~mask)\n",
    "\n",
    "        # Pooling to reduce number of features (is this needed?)\n",
    "        # TODO: possibly other poolings would be better\n",
    "        x = self.mean_pooling(x, mask)\n",
    "        # x = self.max_pooling(x, mask)\n",
    "\n",
    "        return self.classifier(x)\n",
    "\n",
    "    def mean_pooling(self, x, mask):\n",
    "        mask = mask.unsqueeze(-1).float()\n",
    "        x = x * mask\n",
    "        sum_embeddings = x.sum(dim=1)\n",
    "        sum_mask = mask.sum(dim=1)\n",
    "        sum_mask = sum_mask + 1e-8  # avoid div by 0\n",
    "        x = sum_embeddings / sum_mask\n",
    "        return x\n",
    "\n",
    "    def max_pooling(self, x, mask):\n",
    "        mask = mask.unsqueeze(-1).expand_as(x).float()  # Shape: (batch_size, seq_length, d_model)\n",
    "        x = x * mask\n",
    "        x[mask == 0] = -1e9\n",
    "        x, _ = torch.max(x, dim=1)\n",
    "        \n",
    "        return x\n"
   ]
  },
  {
   "cell_type": "code",
   "execution_count": 8,
   "metadata": {},
   "outputs": [
    {
     "name": "stdout",
     "output_type": "stream",
     "text": [
      "Using device: cuda\n"
     ]
    }
   ],
   "source": [
    "import torch\n",
    "import torch.nn as nn\n",
    "from torch.utils.data import DataLoader\n",
    "from sklearn.metrics import accuracy_score, f1_score\n",
    "\n",
    "# get device for training\n",
    "device = torch.device('cuda' if torch.cuda.is_available() else 'cpu')\n",
    "print(f'Using device: {device}')\n",
    "\n",
    "def train_epoch(model, dataloader, criterion, optimizer):\n",
    "    model.train()\n",
    "    running_loss = 0.0\n",
    "    all_preds = []\n",
    "    all_labels = []\n",
    "\n",
    "    for signals, labels, masks in dataloader:\n",
    "        signals = signals.to(device)\n",
    "        labels = labels.to(device)\n",
    "        masks = masks.to(device)\n",
    "\n",
    "        optimizer.zero_grad()\n",
    "\n",
    "        outputs = model(signals, masks)\n",
    "        loss = criterion(outputs, labels)\n",
    "        loss.backward()\n",
    "        optimizer.step()\n",
    "\n",
    "        running_loss += loss.item() * signals.size(0)\n",
    "\n",
    "        preds = outputs.argmax(dim=1)\n",
    "        all_preds.extend(preds.cpu().numpy())\n",
    "        all_labels.extend(labels.cpu().numpy())\n",
    "\n",
    "    epoch_loss = running_loss / len(dataloader.dataset)\n",
    "    epoch_acc = accuracy_score(all_labels, all_preds)\n",
    "    return epoch_loss, epoch_acc\n",
    "\n",
    "def validate_epoch(model, dataloader, criterion):\n",
    "    model.eval()\n",
    "    running_loss = 0.0\n",
    "    all_preds = []\n",
    "    all_labels = []\n",
    "\n",
    "    with torch.no_grad():\n",
    "        for signals, labels, masks in dataloader:\n",
    "            signals = signals.to(device)\n",
    "            labels = labels.to(device)\n",
    "            masks = masks.to(device)\n",
    "\n",
    "            outputs = model(signals, masks)\n",
    "            loss = criterion(outputs, labels)\n",
    "\n",
    "            running_loss += loss.item() * signals.size(0)\n",
    "\n",
    "            preds = outputs.argmax(dim=1)\n",
    "            all_preds.extend(preds.cpu().numpy())\n",
    "            all_labels.extend(labels.cpu().numpy())\n",
    "\n",
    "    epoch_loss = running_loss / len(dataloader.dataset)\n",
    "    epoch_acc = accuracy_score(all_labels, all_preds)\n",
    "    epoch_f1 = f1_score(all_labels, all_preds, average='micro')\n",
    "\n",
    "    return epoch_loss, epoch_acc, epoch_f1"
   ]
  },
  {
   "cell_type": "markdown",
   "metadata": {},
   "source": [
    "### Train and evaluation"
   ]
  },
  {
   "cell_type": "code",
   "execution_count": 9,
   "metadata": {},
   "outputs": [],
   "source": [
    "train_dataset = ECGDataset(X_train, y_train, attention_train)\n",
    "val_dataset = ECGDataset(X_val, y_val, attention_val)\n",
    "\n",
    "train_loader = DataLoader(train_dataset, batch_size=32, shuffle=True)\n",
    "val_loader = DataLoader(val_dataset, batch_size=32, shuffle=False)"
   ]
  },
  {
   "cell_type": "code",
   "execution_count": 10,
   "metadata": {},
   "outputs": [],
   "source": [
    "# init model\n",
    "heartbeat_size = 180\n",
    "num_classes = 4\n",
    "model = TransformerClassifier(heartbeat_size, num_classes)\n",
    "model = model.to(device)\n",
    "\n",
    "criterion = nn.CrossEntropyLoss()\n",
    "# use reg. in optimizer\n",
    "optimizer = torch.optim.Adam(model.parameters(), lr=1e-4, weight_decay=1e-5)"
   ]
  },
  {
   "cell_type": "code",
   "execution_count": null,
   "metadata": {},
   "outputs": [],
   "source": [
    "num_epochs = 1\n",
    "\n",
    "for epoch in range(num_epochs):\n",
    "    train_loss, train_acc = train_epoch(model, train_loader, criterion, optimizer)\n",
    "    val_loss, val_acc, val_f1 = validate_epoch(model, val_loader, criterion)\n",
    "\n",
    "    print(f'Epoch {epoch+1}/{num_epochs}')\n",
    "    print(f'Train Loss: {train_loss:.4f}  Train Acc: {train_acc:.4f}')\n",
    "    print(f'Val   Loss: {val_loss:.4f}  Val   Acc: {val_acc:.4f}  Val F1: {val_f1:.4f}')"
   ]
  },
  {
   "cell_type": "markdown",
   "metadata": {},
   "source": [
    "## Run predictions on test data"
   ]
  },
  {
   "cell_type": "code",
   "execution_count": 57,
   "metadata": {},
   "outputs": [
    {
     "name": "stdout",
     "output_type": "stream",
     "text": [
      "3411\n"
     ]
    }
   ],
   "source": [
    "import pickle\n",
    "\n",
    "with open('data/processed_test_dataset.pkl', 'rb') as f:\n",
    "    result_data = pickle.load(f)\n",
    "\n",
    "X_test = result_data['heartbeat']\n",
    "# should be 3411:\n",
    "print(len(X_test))"
   ]
  },
  {
   "cell_type": "code",
   "execution_count": 58,
   "metadata": {},
   "outputs": [],
   "source": [
    "import torch\n",
    "from torch.nn.utils.rnn import pad_sequence\n",
    "\n",
    "# Assuming `X_test` is your list of heartbeats for the test set\n",
    "# Convert `X_test` to PyTorch tensors\n",
    "X_test_tensors = []\n",
    "\n",
    "for heartbeat_sequence in X_test:\n",
    "    tensor = torch.tensor(heartbeat_sequence, dtype=torch.float32)\n",
    "    X_test_tensors.append(tensor)\n",
    "\n",
    "# Apply the previously fitted scaler to each tensor in X_test\n",
    "for i in range(len(X_test_tensors)):\n",
    "    data = X_test_tensors[i].numpy()\n",
    "    data_scaled = scaler.transform(data)  # Use the scaler fitted on the training data\n",
    "    X_test_tensors[i] = torch.tensor(data_scaled, dtype=torch.float32)\n",
    "\n",
    "# Pad all sequences to the length of the longest sequence in the dataset\n",
    "X_test_padded = pad_sequence(X_test_tensors, batch_first=True, padding_value=0.0)\n",
    "\n",
    "# Create an attention mask for `X_test`\n",
    "attention_mask_test = (X_test_padded != 0.0).any(dim=-1)  # Mask for padded values"
   ]
  },
  {
   "cell_type": "code",
   "execution_count": 59,
   "metadata": {},
   "outputs": [],
   "source": [
    "# Create Dataset class for the test data\n",
    "class ECGTestDataset(Dataset):\n",
    "    def __init__(self, signals, masks):\n",
    "        self.signals = signals\n",
    "        self.masks = masks\n",
    "\n",
    "    def __len__(self):\n",
    "        return len(self.signals)\n",
    "\n",
    "    def __getitem__(self, idx):\n",
    "        signal = self.signals[idx]\n",
    "        mask = self.masks[idx]\n",
    "        return signal, mask\n",
    "\n",
    "# Create test dataset and DataLoader\n",
    "test_dataset = ECGTestDataset(X_test_padded, attention_mask_test)\n",
    "test_loader = DataLoader(test_dataset, batch_size=32, shuffle=False)"
   ]
  },
  {
   "cell_type": "code",
   "execution_count": 60,
   "metadata": {},
   "outputs": [
    {
     "name": "stdout",
     "output_type": "stream",
     "text": [
      "Predictions: [0 2 0 ... 0 0 1]\n",
      "3411\n"
     ]
    }
   ],
   "source": [
    "# Put model in evaluation mode\n",
    "model.eval()\n",
    "\n",
    "all_preds = []\n",
    "\n",
    "with torch.no_grad():\n",
    "    for signals, masks in test_loader:\n",
    "        signals = signals.to(device)\n",
    "        masks = masks.to(device)\n",
    "\n",
    "        # Forward pass through the model to get predictions\n",
    "        outputs = model(signals, masks)\n",
    "\n",
    "        # Get predicted class (highest value)\n",
    "        preds = torch.argmax(outputs, dim=1)\n",
    "        all_preds.extend(preds.cpu().numpy())\n",
    "\n",
    "# Convert predictions to a numpy array\n",
    "predictions = np.array(all_preds)\n",
    "\n",
    "print(\"Predictions:\", predictions)\n",
    "# length should be 3411\n",
    "print(len(predictions))"
   ]
  },
  {
   "cell_type": "code",
   "execution_count": 61,
   "metadata": {},
   "outputs": [],
   "source": [
    "# generate IDs for each signal in the test set\n",
    "ids = np.arange(len(predictions))\n",
    "\n",
    "# Create a DataFrame for submission\n",
    "submission_df = pd.DataFrame({\n",
    "    'id': ids,\n",
    "    'y': predictions\n",
    "})\n",
    "\n",
    "# Save the DataFrame to a CSV file\n",
    "submission_df.to_csv('./data/predictions/test_preds.csv', index=False)"
   ]
  },
  {
   "cell_type": "code",
   "execution_count": null,
   "metadata": {},
   "outputs": [],
   "source": []
  }
 ],
 "metadata": {
  "kernelspec": {
   "display_name": ".venv",
   "language": "python",
   "name": "python3"
  },
  "language_info": {
   "codemirror_mode": {
    "name": "ipython",
    "version": 3
   },
   "file_extension": ".py",
   "mimetype": "text/x-python",
   "name": "python",
   "nbconvert_exporter": "python",
   "pygments_lexer": "ipython3",
   "version": "3.12.7"
  }
 },
 "nbformat": 4,
 "nbformat_minor": 4
}
