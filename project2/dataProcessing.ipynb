{
 "cells": [
  {
   "cell_type": "code",
   "execution_count": 3,
   "metadata": {},
   "outputs": [],
   "source": [
    "import csv\n",
    "import os\n",
    "\n",
    "import biosppy.signals.ecg as ecg\n",
    "import matplotlib.pyplot as plt\n",
    "import numpy as np\n",
    "import pandas as pd"
   ]
  },
  {
   "cell_type": "markdown",
   "metadata": {},
   "source": [
    "## Helper functions"
   ]
  },
  {
   "cell_type": "code",
   "execution_count": 4,
   "metadata": {},
   "outputs": [],
   "source": [
    "# Function to extract r-peaks of single ECG signal\n",
    "# Discards NaN values\n",
    "def extract_r_peaks(signal, sampling_rate=300):\n",
    "    signal = signal.dropna().to_numpy(dtype='float32')\n",
    "    try:\n",
    "        r_peaks = ecg.engzee_segmenter(signal, sampling_rate=sampling_rate)['rpeaks']\n",
    "        return r_peaks.tolist()\n",
    "    except ValueError as e:\n",
    "        print(f\"Error processing row: {e}\")\n",
    "        return []"
   ]
  },
  {
   "cell_type": "code",
   "execution_count": 5,
   "metadata": {},
   "outputs": [],
   "source": [
    "# Function to extract heartbeats for a single signal, given the signal and r_peaks\n",
    "def extract_heartbeats(signal, r_peaks, sampling_rate=300):\n",
    "    try:\n",
    "        heartbeats = ecg.extract_heartbeats(signal, r_peaks, sampling_rate=sampling_rate)\n",
    "        return heartbeats\n",
    "    except ValueError as e:\n",
    "        print(f\"Error in heartbeat extraction: {e}\")\n",
    "        return []"
   ]
  },
  {
   "cell_type": "code",
   "execution_count": 6,
   "metadata": {},
   "outputs": [],
   "source": [
    "# Full heartbeat extraction pipeline\n",
    "# Assumes given data has no NaN values\n",
    "def process_ecg_dataset(data, sampling_rate=300):\n",
    "    r_peaks_list = []\n",
    "    heartbeats_list = []\n",
    "\n",
    "    for i in range(len(data)):\n",
    "        r_peaks = extract_r_peaks(data.loc[i], sampling_rate)\n",
    "        r_peaks_list.append(r_peaks)\n",
    "\n",
    "        heartbeats = extract_heartbeats(data.loc[i], r_peaks, sampling_rate)['templates']\n",
    "        heartbeats_list.append(heartbeats)\n",
    "\n",
    "    return r_peaks_list, heartbeats_list"
   ]
  },
  {
   "cell_type": "markdown",
   "metadata": {},
   "source": [
    "## Data processing"
   ]
  },
  {
   "cell_type": "code",
   "execution_count": 7,
   "metadata": {},
   "outputs": [],
   "source": [
    "dataTrain = pd.read_csv('data/train.csv', index_col='id')\n",
    "r_peaks_list, heartbeats_list = process_ecg_dataset(dataTrain)\n",
    "\n",
    "# dataTest = pd.read_csv('data/test.csv', index_col='id')\n",
    "# r_peaks_list, heartbeats_list = process_ecg_dataset(dataTest)"
   ]
  },
  {
   "cell_type": "code",
   "execution_count": 12,
   "metadata": {},
   "outputs": [],
   "source": [
    "# Last heartbeat of each signal might contain nans. \n",
    "# For now I just drop heartbeats\n",
    "filtered_heartbeats_list = []\n",
    "for i, signal in enumerate(heartbeats_list):\n",
    "    # For some reason it seems that there is some signals with no heartbeats?\n",
    "    if(len(signal)>1):\n",
    "        if (i == 527):\n",
    "            # for some reason, this signal in the train set has nans in not only the last, but \n",
    "            # also the second to last heartbeat\n",
    "            # Very janky temp. solution\n",
    "            filtered_heartbeats_list.append(signal[:-2])\n",
    "        elif np.isnan(signal[-1]).any():\n",
    "            filtered_heartbeats_list.append(signal[:-1])\n",
    "        else:\n",
    "            filtered_heartbeats_list.append(signal)\n",
    "    # If only one heartbeat, just replace the nans with 0s (instead of dropping it altogether)\n",
    "    elif(len(signal)==1):\n",
    "        signal = np.nan_to_num(signal, nan=0.0)\n",
    "        filtered_heartbeats_list.append(signal)\n",
    "    # It seems some problem with the ecg library leads to signals giving no \n",
    "    # heartbeats happening sometimes :/\n",
    "    # If no heartbeats, just add them, we handle this later\n",
    "    else:\n",
    "        filtered_heartbeats_list.append(signal)\n",
    "\n",
    "\n",
    "# For test set:\n",
    "# filtered_heartbeats_list = []\n",
    "# for i, signal in enumerate(heartbeats_list):\n",
    "#     # For some reason it seems that there is some signals with no heartbeats?\n",
    "#     if(len(signal)>1):\n",
    "#         if np.isnan(signal[-1]).any():\n",
    "#             filtered_heartbeats_list.append(signal[:-1])\n",
    "#         else:\n",
    "#             filtered_heartbeats_list.append(signal)\n",
    "#     # If only one heartbeat, just replace the nans with 0s (instead of dropping it altogether)\n",
    "#     elif(len(signal)==1):\n",
    "#         signal = np.nan_to_num(signal, nan=0.0)\n",
    "#         filtered_heartbeats_list.append(signal)\n",
    "#     # It seems some problem with the ecg library leads to signals w/no heartbeats sometimes :/\n",
    "#     # Since for the test set we need a prediction for all entries, we just make a \n",
    "#     # fake heartbeat entry \n",
    "#     else:\n",
    "#         filtered_heartbeats_list.append(np.zeros((1,180)))"
   ]
  },
  {
   "cell_type": "code",
   "execution_count": 13,
   "metadata": {},
   "outputs": [],
   "source": [
    "import pickle\n",
    "\n",
    "# Process data and save it since processing takes a looong time\n",
    "result_data = pd.DataFrame({\n",
    "    'y': dataTrain['y'],\n",
    "    'heartbeat': filtered_heartbeats_list\n",
    "})\n",
    "\n",
    "# Save it as a pkl file because saving lists of lists in csv makes parsing it afterwards a hassle\n",
    "with open('data/processed_train_dataset.pkl', 'wb') as f:\n",
    "    pickle.dump(result_data, f)\n",
    "\n",
    "\n",
    "# # For test set\n",
    "# result_data = pd.DataFrame({\n",
    "#     'heartbeat': filtered_heartbeats_list \n",
    "# })\n",
    "\n",
    "# with open('data/processed_test_dataset.pkl', 'wb') as f:\n",
    "#     pickle.dump(result_data, f)"
   ]
  },
  {
   "cell_type": "code",
   "execution_count": null,
   "metadata": {},
   "outputs": [],
   "source": []
  }
 ],
 "metadata": {
  "kernelspec": {
   "display_name": ".venv",
   "language": "python",
   "name": "python3"
  },
  "language_info": {
   "codemirror_mode": {
    "name": "ipython",
    "version": 3
   },
   "file_extension": ".py",
   "mimetype": "text/x-python",
   "name": "python",
   "nbconvert_exporter": "python",
   "pygments_lexer": "ipython3",
   "version": "3.12.7"
  }
 },
 "nbformat": 4,
 "nbformat_minor": 4
}
