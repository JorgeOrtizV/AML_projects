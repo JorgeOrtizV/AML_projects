{
 "cells": [
  {
   "cell_type": "code",
   "execution_count": 2,
   "metadata": {},
   "outputs": [],
   "source": [
    "import csv\n",
    "import os\n",
    "\n",
    "import biosppy.signals.ecg as ecg\n",
    "import matplotlib.pyplot as plt\n",
    "import numpy as np\n",
    "import pandas as pd"
   ]
  },
  {
   "cell_type": "markdown",
   "metadata": {},
   "source": [
    "## Helper functions"
   ]
  },
  {
   "cell_type": "code",
   "execution_count": 4,
   "metadata": {},
   "outputs": [],
   "source": [
    "# Function to extract r-peaks of single ECG signal\n",
    "# Discards NaN values\n",
    "def extract_r_peaks(signal, sampling_rate=300):\n",
    "    signal = signal.dropna().to_numpy(dtype='float32')\n",
    "    try:\n",
    "        r_peaks = ecg.engzee_segmenter(signal, sampling_rate=sampling_rate)['rpeaks']\n",
    "        return r_peaks.tolist()\n",
    "    except ValueError as e:\n",
    "        print(f\"Error processing row: {e}\")\n",
    "        return []"
   ]
  },
  {
   "cell_type": "code",
   "execution_count": 5,
   "metadata": {},
   "outputs": [],
   "source": [
    "# Function to extract heartbeats for a single signal, given the signal and r_peaks\n",
    "def extract_heartbeats(signal, r_peaks, sampling_rate=300):\n",
    "    try:\n",
    "        heartbeats = ecg.extract_heartbeats(signal, r_peaks, sampling_rate=sampling_rate)\n",
    "        return heartbeats\n",
    "    except ValueError as e:\n",
    "        print(f\"Error in heartbeat extraction: {e}\")\n",
    "        return []"
   ]
  },
  {
   "cell_type": "code",
   "execution_count": 6,
   "metadata": {},
   "outputs": [],
   "source": [
    "# Full heartbeat extraction pipeline\n",
    "# Assumes given data has no NaN values\n",
    "def process_ecg_dataset(data, sampling_rate=300):\n",
    "    r_peaks_list = []\n",
    "    heartbeats_list = []\n",
    "\n",
    "    for i in range(len(data)):\n",
    "        r_peaks = extract_r_peaks(data.loc[i], sampling_rate)\n",
    "        r_peaks_list.append(r_peaks)\n",
    "\n",
    "        heartbeats = extract_heartbeats(data.loc[i], r_peaks, sampling_rate)['templates']\n",
    "        heartbeats_list.append(heartbeats)\n",
    "\n",
    "    return r_peaks_list, heartbeats_list"
   ]
  },
  {
   "cell_type": "markdown",
   "metadata": {},
   "source": [
    "### Extract filtered heartbeats"
   ]
  },
  {
   "cell_type": "code",
   "execution_count": 8,
   "metadata": {},
   "outputs": [],
   "source": [
    "def filtered_ecg_dataset(data, sampling_rate=300):\n",
    "    filtered_signal = []\n",
    "    beats = []\n",
    "    for i in range(len(data)):\n",
    "        output = ecg.ecg(data.loc[i].dropna().to_numpy(dtype='float32'), sampling_rate=sampling_rate, show=False)\n",
    "        filtered = output['filtered']\n",
    "        beat = output['templates']\n",
    "        filtered_signal.append(filtered)\n",
    "        beats.append(beat)\n",
    "        if len(filtered) < 1:\n",
    "            print('filtered {} length is less than one'.format(i))\n",
    "        if len(beat) < 1:\n",
    "            print('Beat {} length is less than one'.format(i))\n",
    "    return filtered_signal, beats"
   ]
  },
  {
   "cell_type": "markdown",
   "metadata": {},
   "source": [
    "## Data processing"
   ]
  },
  {
   "cell_type": "code",
   "execution_count": 30,
   "metadata": {},
   "outputs": [],
   "source": [
    "# dataTrain = pd.read_csv('data/train.csv', index_col='id')\n",
    "# r_peaks_list, heartbeats_list = process_ecg_dataset(dataTrain)\n",
    "\n",
    "dataTest = pd.read_csv('data/test.csv', index_col='id')\n",
    "# r_peaks_list, heartbeats_list = process_ecg_dataset(dataTest)"
   ]
  },
  {
   "cell_type": "code",
   "execution_count": 9,
   "metadata": {},
   "outputs": [],
   "source": [
    "train_x = dataTrain.drop('y', axis=1)\n",
    "filtered_signals, beats = filtered_ecg_dataset(train_x)"
   ]
  },
  {
   "cell_type": "code",
   "execution_count": null,
   "metadata": {},
   "outputs": [],
   "source": [
    "filtered_signals, beats_test = filtered_ecg_dataset(dataTest)"
   ]
  },
  {
   "cell_type": "code",
   "execution_count": 25,
   "metadata": {},
   "outputs": [],
   "source": [
    "# Processing for filtered data\n",
    "filtered_heartbeats_list = []\n",
    "for i, signal in enumerate(beats):\n",
    "    if(len(signal)>1):\n",
    "        if np.isnan(signal[-1]).any():\n",
    "            filtered_heartbeats_list.append(signal[:-1])\n",
    "        else:\n",
    "            filtered_heartbeats_list.append(signal)\n",
    "    elif(len(signal)==1):\n",
    "        signal = np.nan_to_num(signal, nan=0.0)\n",
    "        filtered_heartbeats_list.append(signal)\n",
    "    else:\n",
    "        filtered_heartbeats_list.append(np.zeros((1,180)))"
   ]
  },
  {
   "cell_type": "code",
   "execution_count": null,
   "metadata": {},
   "outputs": [],
   "source": [
    "# Processing for filtered data\n",
    "filtered_heartbeats_list = []\n",
    "for i, signal in enumerate(beats_test):\n",
    "    if(len(signal)>1):\n",
    "        if np.isnan(signal[-1]).any():\n",
    "            filtered_heartbeats_list.append(signal[:-1])\n",
    "        else:\n",
    "            filtered_heartbeats_list.append(signal)\n",
    "    elif(len(signal)==1):\n",
    "        signal = np.nan_to_num(signal, nan=0.0)\n",
    "        filtered_heartbeats_list.append(signal)\n",
    "    else:\n",
    "        filtered_heartbeats_list.append(np.zeros((1,180)))"
   ]
  },
  {
   "cell_type": "code",
   "execution_count": 31,
   "metadata": {},
   "outputs": [
    {
     "ename": "NameError",
     "evalue": "name 'beats_test' is not defined",
     "output_type": "error",
     "traceback": [
      "\u001b[0;31m---------------------------------------------------------------------------\u001b[0m",
      "\u001b[0;31mNameError\u001b[0m                                 Traceback (most recent call last)",
      "Cell \u001b[0;32mIn[31], line 16\u001b[0m\n\u001b[1;32m      1\u001b[0m \u001b[38;5;28;01mimport\u001b[39;00m \u001b[38;5;21;01mpickle\u001b[39;00m\n\u001b[1;32m      3\u001b[0m \u001b[38;5;66;03m# # Process data and save it since processing takes a looong time\u001b[39;00m\n\u001b[1;32m      4\u001b[0m \u001b[38;5;66;03m# result_data = pd.DataFrame({\u001b[39;00m\n\u001b[1;32m      5\u001b[0m \u001b[38;5;66;03m#     'y': dataTrain['y'],\u001b[39;00m\n\u001b[0;32m   (...)\u001b[0m\n\u001b[1;32m     13\u001b[0m \n\u001b[1;32m     14\u001b[0m \u001b[38;5;66;03m# For test set\u001b[39;00m\n\u001b[1;32m     15\u001b[0m result_data \u001b[38;5;241m=\u001b[39m pd\u001b[38;5;241m.\u001b[39mDataFrame({\n\u001b[0;32m---> 16\u001b[0m     \u001b[38;5;124m'\u001b[39m\u001b[38;5;124mheartbeat\u001b[39m\u001b[38;5;124m'\u001b[39m: \u001b[43mbeats_test\u001b[49m \n\u001b[1;32m     17\u001b[0m })\n\u001b[1;32m     19\u001b[0m \u001b[38;5;28;01mwith\u001b[39;00m \u001b[38;5;28mopen\u001b[39m(\u001b[38;5;124m'\u001b[39m\u001b[38;5;124mdata/processed_test_dataset.pkl\u001b[39m\u001b[38;5;124m'\u001b[39m, \u001b[38;5;124m'\u001b[39m\u001b[38;5;124mwb\u001b[39m\u001b[38;5;124m'\u001b[39m) \u001b[38;5;28;01mas\u001b[39;00m f:\n\u001b[1;32m     20\u001b[0m     pickle\u001b[38;5;241m.\u001b[39mdump(result_data, f)\n",
      "\u001b[0;31mNameError\u001b[0m: name 'beats_test' is not defined"
     ]
    }
   ],
   "source": [
    "import pickle\n",
    "\n",
    "# # Process data and save it since processing takes a looong time\n",
    "# result_data = pd.DataFrame({\n",
    "#     'y': dataTrain['y'],\n",
    "#     'heartbeat': filtered_heartbeats_list\n",
    "# })\n",
    "\n",
    "# # Save it as a pkl file because saving lists of lists in csv makes parsing it afterwards a hassle\n",
    "# with open('data/processed_train_dataset.pkl', 'wb') as f:\n",
    "#     pickle.dump(result_data, f)\n",
    "\n",
    "\n",
    "# For test set\n",
    "result_data = pd.DataFrame({\n",
    "    'heartbeat': beats_test \n",
    "})\n",
    "\n",
    "with open('data/processed_test_dataset.pkl', 'wb') as f:\n",
    "    pickle.dump(result_data, f)"
   ]
  },
  {
   "cell_type": "code",
   "execution_count": null,
   "metadata": {},
   "outputs": [],
   "source": []
  }
 ],
 "metadata": {
  "kernelspec": {
   "display_name": ".venv",
   "language": "python",
   "name": "python3"
  },
  "language_info": {
   "codemirror_mode": {
    "name": "ipython",
    "version": 3
   },
   "file_extension": ".py",
   "mimetype": "text/x-python",
   "name": "python",
   "nbconvert_exporter": "python",
   "pygments_lexer": "ipython3",
   "version": "3.12.7"
  }
 },
 "nbformat": 4,
 "nbformat_minor": 4
}
