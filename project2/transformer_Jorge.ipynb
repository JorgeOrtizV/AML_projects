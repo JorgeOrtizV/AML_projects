{
 "cells": [
  {
   "cell_type": "code",
   "execution_count": 1,
   "id": "4ab2a2b9",
   "metadata": {},
   "outputs": [],
   "source": [
    "import pandas as pd\n",
    "import numpy as np\n",
    "import torch\n",
    "from biosppy.signals import ecg\n",
    "import matplotlib.pyplot as plt\n",
    "import os\n",
    "import pickle"
   ]
  },
  {
   "cell_type": "code",
   "execution_count": 2,
   "id": "4b602588",
   "metadata": {},
   "outputs": [],
   "source": [
    "data = pd.read_csv('original_data/train.csv', index_col='id')\n",
    "train_y = data['y']\n",
    "train_x = data.drop('y', axis=1)"
   ]
  },
  {
   "cell_type": "code",
   "execution_count": 3,
   "id": "15302ad3",
   "metadata": {},
   "outputs": [],
   "source": [
    "# Extract peaks\n",
    "# Try ecg.ecg? Returns ts, filtered ECG signal, rpeaks, heart_rate, etc\n",
    "def extract_peaks(signal, sampling_rate=300):\n",
    "    signal = signal.dropna().to_numpy(dtype='float32')\n",
    "    r_peaks = ecg.engzee_segmenter(signal, sampling_rate=sampling_rate)['rpeaks']\n",
    "    return r_peaks.tolist()"
   ]
  },
  {
   "cell_type": "code",
   "execution_count": 4,
   "id": "cbf4cf35",
   "metadata": {},
   "outputs": [],
   "source": [
    "# Extract heartbeats\n",
    "def extract_heartbeat(signal, r_peaks, sampling_rate=300):\n",
    "    signal = signal.dropna().to_numpy(dtype='float32')\n",
    "    beats = ecg.extract_heartbeats(signal, r_peaks, sampling_rate=sampling_rate)['templates']\n",
    "    return beats"
   ]
  },
  {
   "cell_type": "code",
   "execution_count": 5,
   "id": "1632ca0a",
   "metadata": {},
   "outputs": [],
   "source": [
    "def ecg_signal(data, sampling_rate=300):\n",
    "    r_peaks = []\n",
    "    heartbeats = []\n",
    "    for i in range(len(data)):\n",
    "        r_peak = extract_peaks(data.loc[i], sampling_rate)\n",
    "        heartbeat = extract_heartbeat(data.loc[i], r_peak, sampling_rate)\n",
    "        r_peaks.append(r_peak)\n",
    "        heartbeats.append(heartbeat)\n",
    "        \n",
    "    return r_peaks, heartbeats"
   ]
  },
  {
   "cell_type": "code",
   "execution_count": null,
   "id": "307d825e",
   "metadata": {},
   "outputs": [],
   "source": [
    "r_peaks, heartbeats = ecg_signal(train_x)"
   ]
  },
  {
   "cell_type": "code",
   "execution_count": null,
   "id": "dbceb90c",
   "metadata": {},
   "outputs": [],
   "source": [
    "all_beats = []\n",
    "full_beats = []\n",
    "train_y = train_y.to_numpy()\n",
    "train_y_full = []\n",
    "\n",
    "for i, signal in enumerate(heartbeats):\n",
    "    if len(signal)>=1:\n",
    "        all_beats.append(signal)\n",
    "        full_beats.append(signal)\n",
    "        train_y_full.append(train_y[i])\n",
    "    else:\n",
    "        signal = np.nan_to_num(signal, nan=0.0)\n",
    "        all_beats.append(signal)"
   ]
  },
  {
   "cell_type": "code",
   "execution_count": null,
   "id": "484b83cc",
   "metadata": {},
   "outputs": [],
   "source": [
    "with open('data/all_beats.pkl', 'wb') as f:\n",
    "    pickle.dump(all_beats, f)\n",
    "    \n",
    "with open('data/full_beats.pkl', 'wb') as f:\n",
    "    pickle.dump(full_beats, f)\n",
    "    \n",
    "with open('data/train_y_full.pkl', 'wb') as f:\n",
    "    pickle.dump(train_y_full, f)"
   ]
  },
  {
   "cell_type": "code",
   "execution_count": null,
   "id": "e5675e9b",
   "metadata": {},
   "outputs": [],
   "source": [
    "filtered_signal = []\n",
    "beats = []\n",
    "for i in range(len(train_x)):\n",
    "    output = ecg.ecg(train_x.loc[i].dropna().to_numpy(dtype='float32'), sampling_rate=300, show=False)\n",
    "    filtered = output['filtered']\n",
    "    beat = output['templates']\n",
    "    filtered_signal.append(filtered)\n",
    "    beats.append(beat)\n",
    "    if len(filtered) < 1:\n",
    "        print('filtered {} length is less than one'.format(i))\n",
    "    if len(beat) < 1:\n",
    "        print('Beat {} length is less than one'.format(i))"
   ]
  },
  {
   "cell_type": "code",
   "execution_count": null,
   "id": "d68b19c0",
   "metadata": {},
   "outputs": [],
   "source": [
    "with open('data/filtered_ecg.pkl', 'wb') as f:\n",
    "    pickle.dump(filtered_signal, f)\n",
    "    \n",
    "with open('data/heartbeat_templates_ecg.pkl', 'wb') as f:\n",
    "    pickle.dump(beats, f)"
   ]
  }
 ],
 "metadata": {
  "kernelspec": {
   "display_name": "Python 3 (ipykernel)",
   "language": "python",
   "name": "python3"
  },
  "language_info": {
   "codemirror_mode": {
    "name": "ipython",
    "version": 3
   },
   "file_extension": ".py",
   "mimetype": "text/x-python",
   "name": "python",
   "nbconvert_exporter": "python",
   "pygments_lexer": "ipython3",
   "version": "3.11.9"
  }
 },
 "nbformat": 4,
 "nbformat_minor": 5
}
