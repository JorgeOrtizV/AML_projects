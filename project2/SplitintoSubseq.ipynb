{
 "cells": [
  {
   "cell_type": "code",
   "execution_count": 1,
   "id": "d486bfe5-746f-4f95-9d99-b257fafff587",
   "metadata": {},
   "outputs": [],
   "source": [
    "import pandas as pd\n",
    "import biosppy.signals.ecg as ecg\n",
    "import numpy as np\n",
    "import pickle\n",
    "\n",
    "train = pd.read_csv('train.csv')\n",
    "train_features = train.iloc[:, 2:].to_numpy()\n",
    "train_labels = train.iloc[:, 1].to_numpy()"
   ]
  },
  {
   "cell_type": "code",
   "execution_count": 64,
   "id": "02f68586-04ee-40c7-92de-22f16532593a",
   "metadata": {},
   "outputs": [],
   "source": [
    "# drop nan value\n",
    "train_features_no_nan = [features[~np.isnan(features)] for features in train_features]\n",
    "\n",
    "# truncate to get sequence with length 500\n",
    "subsequences = []\n",
    "subsequence_labels = []\n",
    "\n",
    "for features, label in zip(train_features_no_nan, train_labels):\n",
    "    num_subsequences = len(features) // 1500\n",
    "    \n",
    "    for i in range(num_subsequences):\n",
    "        subsequence = features[i * 1500:(i + 1) * 1500]\n",
    "        subsequences.append(subsequence)\n",
    "        subsequence_labels.append(label)"
   ]
  },
  {
   "cell_type": "code",
   "execution_count": 65,
   "id": "3c650b0a-08d2-4163-9cd9-997c607a99b0",
   "metadata": {},
   "outputs": [
    {
     "name": "stdout",
     "output_type": "stream",
     "text": [
      "Subsequences shape: (28106, 1500)\n",
      "Subsequence labels shape: (28106,)\n"
     ]
    }
   ],
   "source": [
    "subsequences = np.array(subsequences)\n",
    "subsequence_labels = np.array(subsequence_labels)\n",
    "\n",
    "print(f'Subsequences shape: {subsequences.shape}')\n",
    "print(f'Subsequence labels shape: {subsequence_labels.shape}')"
   ]
  },
  {
   "cell_type": "code",
   "execution_count": 109,
   "id": "32ffafdf-a15a-4ec4-ba9d-485cd8ccb130",
   "metadata": {},
   "outputs": [],
   "source": [
    "def filtered_ecg_dataset(data, sampling_rate=300):\n",
    "    filtered_signals = []\n",
    "    beat_templates = []\n",
    "    error_indices = []\n",
    "    for i in range(len(data)):\n",
    "        row_data = data[i]\n",
    "        try:\n",
    "            output = ecg.ecg(row_data, sampling_rate=sampling_rate, show=False)\n",
    "            filtered = output['filtered']\n",
    "            beat = output['templates']\n",
    "\n",
    "            filtered_signals.append(filtered)\n",
    "            beat_templates.append(beat)\n",
    "        except ValueError as e:\n",
    "            if str(e) == \"Not enough beats to compute heart rate.\":\n",
    "                print(f\"Skipping signal {i} due to insufficient beats.\")\n",
    "                error_indices.append(i)\n",
    "                continue\n",
    "            else:\n",
    "                raise e\n",
    "\n",
    "    return filtered_signals, beat_templates, error_indices"
   ]
  },
  {
   "cell_type": "code",
   "execution_count": 110,
   "id": "e2f6d3f2-5886-4f12-88ce-795c68cf1ddb",
   "metadata": {},
   "outputs": [
    {
     "name": "stdout",
     "output_type": "stream",
     "text": [
      "Skipping signal 4596 due to insufficient beats.\n",
      "Skipping signal 15102 due to insufficient beats.\n",
      "Skipping signal 20964 due to insufficient beats.\n",
      "Skipping signal 25117 due to insufficient beats.\n"
     ]
    }
   ],
   "source": [
    "train_filtered_signal, train_beats, train_labeltodelete = filtered_ecg_dataset(subsequences)"
   ]
  },
  {
   "cell_type": "code",
   "execution_count": 112,
   "id": "ae16f25d-52f1-429c-861c-366883de520e",
   "metadata": {},
   "outputs": [],
   "source": [
    "subsequence_labels = np.delete(subsequence_labels, train_labeltodelete)"
   ]
  },
  {
   "cell_type": "code",
   "execution_count": 113,
   "id": "78544e91-031a-4041-a9ee-64cef5bd719e",
   "metadata": {},
   "outputs": [
    {
     "name": "stdout",
     "output_type": "stream",
     "text": [
      "28102\n"
     ]
    }
   ],
   "source": [
    "print(len(subsequence_labels))"
   ]
  },
  {
   "cell_type": "code",
   "execution_count": 114,
   "id": "51b9275d-f29e-4290-ad36-c496798246ff",
   "metadata": {},
   "outputs": [],
   "source": [
    "test = pd.read_csv('test.csv')\n",
    "test_idx = test.iloc[:, 0].to_numpy()\n",
    "test_features = test.iloc[:, 1:].to_numpy()"
   ]
  },
  {
   "cell_type": "code",
   "execution_count": 115,
   "id": "3800743f-ab55-457c-9a00-3e0669fa5a45",
   "metadata": {},
   "outputs": [
    {
     "name": "stdout",
     "output_type": "stream",
     "text": [
      "[   0    1    2 ... 3408 3409 3410]\n"
     ]
    }
   ],
   "source": [
    "print(test_idx)"
   ]
  },
  {
   "cell_type": "code",
   "execution_count": 118,
   "id": "e08f3063-a389-4e0f-aa6e-17d951b1699a",
   "metadata": {},
   "outputs": [],
   "source": [
    "# drop nan value\n",
    "test_features_no_nan = [features[~np.isnan(features)] for features in test_features]\n",
    "\n",
    "# truncate to get sequence with length 500\n",
    "subsequences_test = []\n",
    "subsequence_idx = []\n",
    "\n",
    "for features, idx in zip(test_features_no_nan, test_idx):\n",
    "    num_subsequences = len(features) // 1500\n",
    "    \n",
    "    for i in range(num_subsequences):\n",
    "        subsequence = features[i * 1500:(i + 1) * 1500]\n",
    "        subsequences_test.append(subsequence)\n",
    "        subsequence_idx.append(idx)"
   ]
  },
  {
   "cell_type": "code",
   "execution_count": 122,
   "id": "8e57c7ff-ff7b-4e8f-a5e7-056469abe421",
   "metadata": {},
   "outputs": [
    {
     "name": "stdout",
     "output_type": "stream",
     "text": [
      "Skipping signal 6188 due to insufficient beats.\n",
      "Skipping signal 6189 due to insufficient beats.\n",
      "Skipping signal 6191 due to insufficient beats.\n",
      "Skipping signal 7948 due to insufficient beats.\n",
      "Skipping signal 10328 due to insufficient beats.\n",
      "Skipping signal 14534 due to insufficient beats.\n",
      "Skipping signal 14536 due to insufficient beats.\n"
     ]
    }
   ],
   "source": [
    "filtered_signal_test, beats_test, test_idxtodelete = filtered_ecg_dataset(subsequences_test)"
   ]
  },
  {
   "cell_type": "code",
   "execution_count": 123,
   "id": "92b54337-c411-407a-ab88-1befca905cac",
   "metadata": {},
   "outputs": [],
   "source": [
    "subsequence_idx = np.delete(subsequence_idx, test_idxtodelete)"
   ]
  },
  {
   "cell_type": "code",
   "execution_count": 126,
   "id": "e1f7e454-3ce6-4e7a-bb16-ad147ec91079",
   "metadata": {},
   "outputs": [],
   "source": [
    "with open('train_1500.pkl', 'wb') as f:\n",
    "    pickle.dump({'X': train_filtered_signal, 'y': subsequence_labels}, f)\n",
    "with open('test_1500.pkl', 'wb') as f:\n",
    "    pickle.dump({'idx': subsequence_idx, 'X': filtered_signal_test}, f)"
   ]
  },
  {
   "cell_type": "code",
   "execution_count": null,
   "id": "96a79576-23bd-4f42-8723-01a48507fce7",
   "metadata": {},
   "outputs": [],
   "source": []
  }
 ],
 "metadata": {
  "kernelspec": {
   "display_name": "Python 3 (ipykernel)",
   "language": "python",
   "name": "python3"
  },
  "language_info": {
   "codemirror_mode": {
    "name": "ipython",
    "version": 3
   },
   "file_extension": ".py",
   "mimetype": "text/x-python",
   "name": "python",
   "nbconvert_exporter": "python",
   "pygments_lexer": "ipython3",
   "version": "3.11.8"
  }
 },
 "nbformat": 4,
 "nbformat_minor": 5
}
