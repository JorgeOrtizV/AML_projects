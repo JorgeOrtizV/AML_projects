{
 "cells": [
  {
   "cell_type": "code",
   "execution_count": 43,
   "id": "be4fff15-c030-4bff-8f4e-29abdef4c4b2",
   "metadata": {},
   "outputs": [],
   "source": [
    "import pandas as pd\n",
    "import biosppy.signals.ecg as ecg\n",
    "import numpy as np\n",
    "import pickle\n",
    "\n",
    "train = pd.read_csv('train.csv')\n",
    "train_features = train.iloc[:, 2:].to_numpy()\n",
    "train_labels = train.iloc[:, 1].to_numpy()"
   ]
  },
  {
   "cell_type": "code",
   "execution_count": 44,
   "id": "bebe15e2-5a64-4773-9906-4a0cd18e76d3",
   "metadata": {},
   "outputs": [],
   "source": [
    "def valid_heartbeats(samples):\n",
    "    heartbeats_list = []\n",
    "\n",
    "    for idx, sequence in enumerate(samples):\n",
    "        output = ecg.engzee_segmenter(signal=sequence, sampling_rate=300)['rpeaks']\n",
    "        rpeaks = output.tolist()\n",
    "\n",
    "        heartbeats = ecg.extract_heartbeats(signal=sequence, rpeaks=rpeaks, sampling_rate=300)['templates']\n",
    "        valid_heartbeats = [heartbeat for heartbeat in heartbeats if not np.isnan(heartbeat).any()]\n",
    "\n",
    "        heartbeats_list.append(valid_heartbeats)\n",
    "\n",
    "    return heartbeats_list"
   ]
  },
  {
   "cell_type": "code",
   "execution_count": 45,
   "id": "aa13b487-c04a-4dd3-977f-500c7f0e70b6",
   "metadata": {},
   "outputs": [],
   "source": [
    "train_valid_heartbeats = valid_heartbeats(train_features)"
   ]
  },
  {
   "cell_type": "code",
   "execution_count": 47,
   "id": "9ac4e7ea-a472-468b-a428-a9c26dd86170",
   "metadata": {},
   "outputs": [
    {
     "name": "stdout",
     "output_type": "stream",
     "text": [
      "Maximum number of heartbeats: 159\n",
      "Minimum number of heartbeats: 0\n",
      "Average number of heartbeats: 34.78\n"
     ]
    }
   ],
   "source": [
    "max_length = max(len(sublist) for sublist in train_valid_heartbeats)\n",
    "min_length = min(len(sublist) for sublist in train_valid_heartbeats)\n",
    "average_length = sum(len(sublist) for sublist in train_valid_heartbeats) / len(train_valid_heartbeats)\n",
    "\n",
    "print(f\"Maximum number of heartbeats: {max_length}\")\n",
    "print(f\"Minimum number of heartbeats: {min_length}\")\n",
    "print(f\"Average number of heartbeats: {average_length:.2f}\")"
   ]
  },
  {
   "cell_type": "code",
   "execution_count": 55,
   "id": "6762276e-c606-4a6c-b359-6fc559eb081a",
   "metadata": {},
   "outputs": [],
   "source": [
    "with open('train_data.pkl', 'wb') as f:\n",
    "    pickle.dump({'X': train_valid_heartbeats, 'y': train_labels}, f)"
   ]
  },
  {
   "cell_type": "code",
   "execution_count": 49,
   "id": "20b105ee-36cf-4963-9ae5-7f105dca2372",
   "metadata": {},
   "outputs": [],
   "source": [
    "test = pd.read_csv('test.csv')\n",
    "test_features = test.iloc[:, 1:].to_numpy()"
   ]
  },
  {
   "cell_type": "code",
   "execution_count": 50,
   "id": "3d1231c9-3f2e-44b8-bdbf-97a1a9d619f9",
   "metadata": {},
   "outputs": [
    {
     "name": "stdout",
     "output_type": "stream",
     "text": [
      "3411\n"
     ]
    }
   ],
   "source": [
    "print(len(test_features))"
   ]
  },
  {
   "cell_type": "code",
   "execution_count": 51,
   "id": "6e6a4b33-ad22-4127-8940-071b593a16e5",
   "metadata": {},
   "outputs": [],
   "source": [
    "test_valid_heartbeats = valid_heartbeats(test_features)"
   ]
  },
  {
   "cell_type": "code",
   "execution_count": 52,
   "id": "cb28814c-b448-4c2e-9508-d7d33fceac24",
   "metadata": {},
   "outputs": [
    {
     "name": "stdout",
     "output_type": "stream",
     "text": [
      "3411\n"
     ]
    }
   ],
   "source": [
    "print(len(test_valid_heartbeats))"
   ]
  },
  {
   "cell_type": "code",
   "execution_count": 53,
   "id": "af598e8e-371c-441d-8af6-ed3c03414d7b",
   "metadata": {},
   "outputs": [],
   "source": [
    "with open('test_data.pkl', 'wb') as f:\n",
    "    pickle.dump({'X': test_valid_heartbeats}, f)"
   ]
  },
  {
   "cell_type": "code",
   "execution_count": 54,
   "id": "51477d3b-1972-4252-96bd-f833a9b6a431",
   "metadata": {},
   "outputs": [
    {
     "name": "stdout",
     "output_type": "stream",
     "text": [
      "Maximum number of heartbeats: 172\n",
      "Minimum number of heartbeats: 0\n",
      "Average number of heartbeats: 34.64\n"
     ]
    }
   ],
   "source": [
    "max_length = max(len(sublist) for sublist in test_valid_heartbeats)\n",
    "min_length = min(len(sublist) for sublist in test_valid_heartbeats)\n",
    "average_length = sum(len(sublist) for sublist in test_valid_heartbeats) / len(test_valid_heartbeats)\n",
    "\n",
    "print(f\"Maximum number of heartbeats: {max_length}\")\n",
    "print(f\"Minimum number of heartbeats: {min_length}\")\n",
    "print(f\"Average number of heartbeats: {average_length:.2f}\")"
   ]
  },
  {
   "cell_type": "code",
   "execution_count": null,
   "id": "f9c6d4b3-8617-4f7f-80ad-1122efe297ea",
   "metadata": {},
   "outputs": [],
   "source": []
  }
 ],
 "metadata": {
  "kernelspec": {
   "display_name": "Python 3 (ipykernel)",
   "language": "python",
   "name": "python3"
  },
  "language_info": {
   "codemirror_mode": {
    "name": "ipython",
    "version": 3
   },
   "file_extension": ".py",
   "mimetype": "text/x-python",
   "name": "python",
   "nbconvert_exporter": "python",
   "pygments_lexer": "ipython3",
   "version": "3.11.8"
  }
 },
 "nbformat": 4,
 "nbformat_minor": 5
}
