{
 "cells": [
  {
   "cell_type": "code",
   "execution_count": 78,
   "metadata": {},
   "outputs": [],
   "source": [
    "import numpy as np\n",
    "import pandas as pd"
   ]
  },
  {
   "cell_type": "markdown",
   "metadata": {},
   "source": [
    "# Data preprocessing"
   ]
  },
  {
   "cell_type": "markdown",
   "metadata": {},
   "source": [
    "### Read data and save to vector"
   ]
  },
  {
   "cell_type": "code",
   "execution_count": 79,
   "metadata": {},
   "outputs": [
    {
     "name": "stdout",
     "output_type": "stream",
     "text": [
      "(1212, 832) (1212, 1) (776, 832)\n"
     ]
    }
   ],
   "source": [
    "from sklearn.preprocessing import StandardScaler\n",
    "\n",
    "X_train_df = pd.read_csv('./data/X_train.csv', skiprows=1, header=None)\n",
    "y_train_df = pd.read_csv('./data/y_train.csv', skiprows=1, header=None)\n",
    "X_test_df = pd.read_csv('./data/X_test.csv', skiprows=1, header=None)\n",
    "\n",
    "X_train_full = X_train_df.values[:, 1:]\n",
    "y_train_full = y_train_df.values[:, 1:]\n",
    "X_test = X_test_df.values[:, 1:]\n",
    "\n",
    "print(X_train_full.shape, y_train_full.shape, X_test.shape)"
   ]
  },
  {
   "cell_type": "markdown",
   "metadata": {},
   "source": [
    "### Train and validation set\n",
    "Used a 70-30 split, can be changed at `testSize=0.3`"
   ]
  },
  {
   "cell_type": "code",
   "execution_count": 81,
   "metadata": {},
   "outputs": [],
   "source": [
    "from sklearn.model_selection import train_test_split\n",
    "\n",
    "testSize = 0.3\n",
    "X_train, X_val, y_train, y_val = train_test_split(X_train_full, y_train_full, test_size = testSize)"
   ]
  },
  {
   "cell_type": "markdown",
   "metadata": {},
   "source": [
    "### Imputing NaN"
   ]
  },
  {
   "cell_type": "code",
   "execution_count": 82,
   "metadata": {},
   "outputs": [],
   "source": [
    "from sklearn.experimental import enable_iterative_imputer\n",
    "from sklearn.impute import SimpleImputer\n",
    "\n",
    "mean_imputer = SimpleImputer(strategy='mean')\n",
    "X_train_imputed = mean_imputer.fit_transform(X_train)"
   ]
  },
  {
   "cell_type": "markdown",
   "metadata": {},
   "source": [
    "### Feature selection"
   ]
  },
  {
   "cell_type": "code",
   "execution_count": 83,
   "metadata": {},
   "outputs": [
    {
     "name": "stdout",
     "output_type": "stream",
     "text": [
      "Number of significant features: 237\n"
     ]
    },
    {
     "name": "stderr",
     "output_type": "stream",
     "text": [
      "/home/diego/src/AML_projects/project1/.venv/lib/python3.12/site-packages/sklearn/feature_selection/_univariate_selection.py:379: RuntimeWarning: invalid value encountered in sqrt\n",
      "  X_norms = np.sqrt(row_norms(X.T, squared=True) - n_samples * X_means**2)\n"
     ]
    }
   ],
   "source": [
    "from sklearn.feature_selection import SelectKBest, f_regression\n",
    "\n",
    "selector = SelectKBest(score_func=f_regression, k='all')\n",
    "selector.fit(X_train_imputed, y_train.ravel())\n",
    "\n",
    "p_values = selector.pvalues_\n",
    "scores = selector.scores_\n",
    "\n",
    "significant_feature_indices = np.where(p_values < 5e-2)[0]\n",
    "\n",
    "print(f\"Number of significant features: {len(significant_feature_indices)}\")"
   ]
  },
  {
   "cell_type": "code",
   "execution_count": 84,
   "metadata": {},
   "outputs": [],
   "source": [
    "# Extract selected features from the original data\n",
    "X_selected = X_train_full[:, significant_feature_indices]\n",
    "X_train_selected = X_train[:, significant_feature_indices]\n",
    "X_val_selected = X_val[:, significant_feature_indices]\n",
    "X_test_selected = X_test[:, significant_feature_indices]"
   ]
  },
  {
   "cell_type": "markdown",
   "metadata": {},
   "source": [
    "### Final NaN imputation"
   ]
  },
  {
   "cell_type": "code",
   "execution_count": 95,
   "metadata": {},
   "outputs": [],
   "source": [
    "from sklearn.experimental import enable_iterative_imputer\n",
    "from sklearn.impute import IterativeImputer\n",
    "\n",
    "# Impute missing values over the selected features\n",
    "iterative_imputer = IterativeImputer()\n",
    "X_train_selected_imputed = iterative_imputer.fit_transform(X_train_selected)\n",
    "X_selected_imputed = iterative_imputer.transform(X_selected)\n",
    "X_val_selected_imputed = iterative_imputer.transform(X_val_selected)\n",
    "X_test_selected_imputed = iterative_imputer.transform(X_test_selected)"
   ]
  },
  {
   "cell_type": "markdown",
   "metadata": {},
   "source": [
    "### Outlier detection?"
   ]
  },
  {
   "cell_type": "code",
   "execution_count": 96,
   "metadata": {},
   "outputs": [],
   "source": [
    "# TODO"
   ]
  },
  {
   "cell_type": "markdown",
   "metadata": {},
   "source": [
    "### Scale features"
   ]
  },
  {
   "cell_type": "code",
   "execution_count": 97,
   "metadata": {},
   "outputs": [],
   "source": [
    "from sklearn.preprocessing import StandardScaler\n",
    "\n",
    "## Scale features, fit_transform on train set, scale other sets accordingly \n",
    "scaler = StandardScaler()\n",
    "X_train_scaled = scaler.fit_transform(X_train_selected_imputed)\n",
    "X_val_scaled = scaler.transform(X_val_selected_imputed)\n",
    "X_scaled = scaler.transform(X_selected_imputed)\n",
    "X_test_scaled = scaler.transform(X_test_selected_imputed)"
   ]
  },
  {
   "cell_type": "markdown",
   "metadata": {},
   "source": [
    "# Training set"
   ]
  },
  {
   "cell_type": "markdown",
   "metadata": {},
   "source": [
    "### Linear"
   ]
  },
  {
   "cell_type": "code",
   "execution_count": 98,
   "metadata": {},
   "outputs": [
    {
     "name": "stdout",
     "output_type": "stream",
     "text": [
      "Linear Regression Validation Mean Squared Error: 91.81036572616932\n",
      "Linear Regression Full Mean Squared Error: 52.390785094971285\n"
     ]
    }
   ],
   "source": [
    "from sklearn.linear_model import LinearRegression\n",
    "from sklearn.metrics import mean_squared_error\n",
    "\n",
    "# Train the Linear Regression model\n",
    "linear_regressor = LinearRegression()\n",
    "linear_regressor.fit(X_train_scaled, y_train.ravel())\n",
    "\n",
    "# Predict on the validation set\n",
    "y_val_pred_lr = linear_regressor.predict(X_val_scaled)\n",
    "y_pred_lr = linear_regressor.predict(X_scaled)\n",
    "mse_lr = mean_squared_error(y_val, y_val_pred_lr)\n",
    "mse_full_lr = mean_squared_error(y_train_full, y_pred_lr)\n",
    "print(f\"Linear Regression Validation Mean Squared Error: {mse_lr}\")\n",
    "print(f\"Linear Regression Full Mean Squared Error: {mse_full_lr}\")"
   ]
  },
  {
   "cell_type": "markdown",
   "metadata": {},
   "source": [
    "### Ridge"
   ]
  },
  {
   "cell_type": "code",
   "execution_count": 99,
   "metadata": {},
   "outputs": [
    {
     "name": "stdout",
     "output_type": "stream",
     "text": [
      "Ridge Regression Validation Mean Squared Error: 63.37550379105078\n",
      "Ridge Regression fulll Mean Squared Error: 53.55567597101956\n"
     ]
    }
   ],
   "source": [
    "from sklearn.linear_model import RidgeCV\n",
    "from sklearn.metrics import mean_squared_error\n",
    "\n",
    "# Define a range of alpha values to test\n",
    "alphas = np.logspace(-3, 3, 20)\n",
    "\n",
    "# Train the Ridge Regression model with cross-validation\n",
    "ridge_regressor = RidgeCV(alphas=alphas, cv=5)\n",
    "ridge_regressor.fit(X_train_scaled, y_train.ravel())\n",
    "\n",
    "# Predict on the validation set\n",
    "y_val_pred_ridge = ridge_regressor.predict(X_val_scaled)\n",
    "y_pred_ridge = ridge_regressor.predict(X_scaled)\n",
    "mse_ridge = mean_squared_error(y_val, y_val_pred_ridge)\n",
    "mse_full_ridge = mean_squared_error(y_train_full, y_pred_ridge)\n",
    "print(f\"Ridge Regression Validation Mean Squared Error: {mse_ridge}\")\n",
    "print(f\"Ridge Regression fulll Mean Squared Error: {mse_full_ridge}\")"
   ]
  },
  {
   "cell_type": "markdown",
   "metadata": {},
   "source": [
    "### Lasso"
   ]
  },
  {
   "cell_type": "code",
   "execution_count": 100,
   "metadata": {},
   "outputs": [
    {
     "name": "stdout",
     "output_type": "stream",
     "text": [
      "Validation Mean Squared Error: 64.1617854998625\n",
      "Full Mean Squared Error: 63.15726802321777\n"
     ]
    }
   ],
   "source": [
    "from sklearn.linear_model import LassoCV\n",
    "from sklearn.metrics import mean_squared_error\n",
    "\n",
    "# Train lasso\n",
    "lasso = LassoCV(cv=5, max_iter=10000)\n",
    "lasso.fit(X_train_scaled, y_train.ravel())\n",
    "\n",
    "# Predict valudation set, and full train set\n",
    "y_val_pred = lasso.predict(X_val_scaled)\n",
    "y_pred = lasso.predict(X_scaled)\n",
    "mse = mean_squared_error(y_val, y_val_pred)\n",
    "mse_full = mean_squared_error(y_train_full, y_pred)\n",
    "print(f\"Validation Mean Squared Error: {mse}\")\n",
    "print(f\"Full Mean Squared Error: {mse_full}\")"
   ]
  },
  {
   "cell_type": "code",
   "execution_count": 101,
   "metadata": {},
   "outputs": [
    {
     "name": "stdout",
     "output_type": "stream",
     "text": [
      "Number of features selected by Lasso: 26\n"
     ]
    }
   ],
   "source": [
    "# Determine the features that lasso is actually using\n",
    "coefficients = lasso.coef_\n",
    "non_zero_coefs = np.sum(coefficients != 0)\n",
    "print(f\"Number of features selected by Lasso: {non_zero_coefs}\")"
   ]
  },
  {
   "cell_type": "code",
   "execution_count": 102,
   "metadata": {},
   "outputs": [
    {
     "name": "stdout",
     "output_type": "stream",
     "text": [
      "Final Validation Mean Squared Error: 67.79786972442567\n",
      "Final Full Mean Squared Error: 60.3306742535322\n"
     ]
    }
   ],
   "source": [
    "# Take only those features\n",
    "X_train_lasso_selected = X_train_scaled[:, coefficients != 0]\n",
    "X_full_lasso_selected = X_scaled[:, coefficients != 0]\n",
    "X_val_lasso_selected = X_val_scaled[:, coefficients != 0]\n",
    "X_test_lasso_selected = X_test_scaled[:, coefficients != 0]\n",
    "\n",
    "# Retrain the model to the features\n",
    "lasso_final = LassoCV(cv=5, random_state=42)\n",
    "lasso_final.fit(X_train_lasso_selected, y_train.ravel())\n",
    "\n",
    "# Predict again (for the full set, this usually gives worse MSE)\n",
    "y_val_pred_final = lasso_final.predict(X_val_lasso_selected)\n",
    "y_full_pred_final = lasso_final.predict(X_full_lasso_selected)\n",
    "mse_final = mean_squared_error(y_val, y_val_pred_final)\n",
    "mse_final_full = mean_squared_error(y_train_full, y_full_pred_final)\n",
    "print(f\"Final Validation Mean Squared Error: {mse_final}\")\n",
    "print(f\"Final Full Mean Squared Error: {mse_final_full}\")"
   ]
  },
  {
   "cell_type": "markdown",
   "metadata": {},
   "source": [
    "# Export to csv"
   ]
  },
  {
   "cell_type": "code",
   "execution_count": 107,
   "metadata": {},
   "outputs": [
    {
     "name": "stdout",
     "output_type": "stream",
     "text": [
      "63.15726802321777\n"
     ]
    }
   ],
   "source": [
    "# Exporting to required format for Kaggle\n",
    "y_train_pred = lasso.predict(X_scaled)\n",
    "print(mean_squared_error(y_train_full, y_train_pred))\n",
    "\n",
    "table = pd.DataFrame({'id': np.arange(0, y_train_pred.shape[0]), 'y': y_train_pred.flatten()})\n",
    "table.to_csv('./data/y_train_pred.csv', index=False)"
   ]
  }
 ],
 "metadata": {
  "kernelspec": {
   "display_name": ".venv",
   "language": "python",
   "name": "python3"
  },
  "language_info": {
   "codemirror_mode": {
    "name": "ipython",
    "version": 3
   },
   "file_extension": ".py",
   "mimetype": "text/x-python",
   "name": "python",
   "nbconvert_exporter": "python",
   "pygments_lexer": "ipython3",
   "version": "3.12.7"
  }
 },
 "nbformat": 4,
 "nbformat_minor": 2
}
