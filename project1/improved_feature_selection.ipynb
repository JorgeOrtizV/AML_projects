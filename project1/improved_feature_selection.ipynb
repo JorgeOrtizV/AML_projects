{
 "cells": [
  {
   "cell_type": "code",
   "execution_count": 1,
   "metadata": {},
   "outputs": [],
   "source": [
    "import numpy as np\n",
    "import pandas as pd"
   ]
  },
  {
   "cell_type": "markdown",
   "metadata": {},
   "source": [
    "# Data preprocessing"
   ]
  },
  {
   "cell_type": "markdown",
   "metadata": {},
   "source": [
    "### Read data and save to vector"
   ]
  },
  {
   "cell_type": "code",
   "execution_count": 2,
   "metadata": {},
   "outputs": [
    {
     "name": "stdout",
     "output_type": "stream",
     "text": [
      "(1212, 832) (1212, 1) (776, 832)\n"
     ]
    }
   ],
   "source": [
    "from sklearn.preprocessing import StandardScaler\n",
    "\n",
    "X_train_df = pd.read_csv('./data/X_train.csv', skiprows=1, header=None)\n",
    "y_train_df = pd.read_csv('./data/y_train.csv', skiprows=1, header=None)\n",
    "X_test_df = pd.read_csv('./data/X_test.csv', skiprows=1, header=None)\n",
    "\n",
    "X_train_full = X_train_df.values[:, 1:]\n",
    "y_train_full = y_train_df.values[:, 1:]\n",
    "X_test = X_test_df.values[:, 1:]\n",
    "\n",
    "print(X_train_full.shape, y_train_full.shape, X_test.shape)"
   ]
  },
  {
   "cell_type": "markdown",
   "metadata": {},
   "source": [
    "### Train and validation set\n",
    "Used a 70-30 split, can be changed at `testSize=0.3`"
   ]
  },
  {
   "cell_type": "code",
   "execution_count": 3,
   "metadata": {},
   "outputs": [],
   "source": [
    "from sklearn.model_selection import train_test_split\n",
    "\n",
    "testSize = 0.3\n",
    "X_train, X_val, y_train, y_val = train_test_split(X_train_full, y_train_full, test_size = testSize, random_state=42)"
   ]
  },
  {
   "cell_type": "markdown",
   "metadata": {},
   "source": [
    "### Imputing NaN"
   ]
  },
  {
   "cell_type": "code",
   "execution_count": 4,
   "metadata": {},
   "outputs": [],
   "source": [
    "from sklearn.experimental import enable_iterative_imputer\n",
    "from sklearn.impute import SimpleImputer\n",
    "\n",
    "mean_imputer = SimpleImputer(strategy='mean')\n",
    "X_train_imputed = mean_imputer.fit_transform(X_train_full)"
   ]
  },
  {
   "cell_type": "markdown",
   "metadata": {},
   "source": [
    "### Feature selection"
   ]
  },
  {
   "cell_type": "code",
   "execution_count": 5,
   "metadata": {},
   "outputs": [
    {
     "name": "stdout",
     "output_type": "stream",
     "text": [
      "Number of significant features: 245\n"
     ]
    },
    {
     "name": "stderr",
     "output_type": "stream",
     "text": [
      "/home/diego/src/AML_projects/project1/.venv/lib/python3.12/site-packages/sklearn/feature_selection/_univariate_selection.py:379: RuntimeWarning: invalid value encountered in sqrt\n",
      "  X_norms = np.sqrt(row_norms(X.T, squared=True) - n_samples * X_means**2)\n"
     ]
    }
   ],
   "source": [
    "from sklearn.feature_selection import SelectKBest, f_regression\n",
    "\n",
    "selector = SelectKBest(score_func=f_regression, k='all')\n",
    "selector.fit(X_train_imputed, y_train_full.ravel())\n",
    "\n",
    "p_values = selector.pvalues_\n",
    "scores = selector.scores_\n",
    "\n",
    "significant_feature_indices = np.where(p_values < 0.05)[0]\n",
    "\n",
    "print(f\"Number of significant features: {len(significant_feature_indices)}\")"
   ]
  },
  {
   "cell_type": "code",
   "execution_count": 6,
   "metadata": {},
   "outputs": [],
   "source": [
    "# Extract selected features from the original data\n",
    "X_train_selected = X_train_full[:, significant_feature_indices]\n",
    "X_val_selected = X_val[:, significant_feature_indices]\n",
    "X_test_selected = X_test[:, significant_feature_indices]"
   ]
  },
  {
   "cell_type": "markdown",
   "metadata": {},
   "source": [
    "### Final NaN imputation"
   ]
  },
  {
   "cell_type": "code",
   "execution_count": 7,
   "metadata": {},
   "outputs": [],
   "source": [
    "from sklearn.experimental import enable_iterative_imputer\n",
    "from sklearn.impute import IterativeImputer\n",
    "\n",
    "# Impute missing values in the selected features\n",
    "iterative_imputer = IterativeImputer()\n",
    "X_train_selected_imputed = iterative_imputer.fit_transform(X_train_selected)\n",
    "X_val_selected_imputed = iterative_imputer.transform(X_val_selected)\n",
    "X_test_selected_imputed = iterative_imputer.transform(X_test_selected)"
   ]
  },
  {
   "cell_type": "markdown",
   "metadata": {},
   "source": [
    "### Scale features"
   ]
  },
  {
   "cell_type": "code",
   "execution_count": 8,
   "metadata": {},
   "outputs": [],
   "source": [
    "from sklearn.preprocessing import StandardScaler\n",
    "\n",
    "scaler = StandardScaler()\n",
    "X_train_scaled = scaler.fit_transform(X_train_selected_imputed)\n",
    "X_val_scaled = scaler.transform(X_val_selected_imputed)\n",
    "X_test_scaled = scaler.transform(X_test_selected_imputed)"
   ]
  },
  {
   "cell_type": "code",
   "execution_count": 12,
   "metadata": {},
   "outputs": [
    {
     "name": "stderr",
     "output_type": "stream",
     "text": [
      "/home/diego/src/AML_projects/project1/.venv/lib/python3.12/site-packages/sklearn/linear_model/_coordinate_descent.py:683: ConvergenceWarning: Objective did not converge. You might want to increase the number of iterations. Duality gap: 15.896877955274249, tolerance: 9.32950608875129\n",
      "  model = cd_fast.enet_coordinate_descent_gram(\n",
      "/home/diego/src/AML_projects/project1/.venv/lib/python3.12/site-packages/sklearn/linear_model/_coordinate_descent.py:683: ConvergenceWarning: Objective did not converge. You might want to increase the number of iterations. Duality gap: 11.540313514196896, tolerance: 9.32950608875129\n",
      "  model = cd_fast.enet_coordinate_descent_gram(\n",
      "/home/diego/src/AML_projects/project1/.venv/lib/python3.12/site-packages/sklearn/linear_model/_coordinate_descent.py:683: ConvergenceWarning: Objective did not converge. You might want to increase the number of iterations. Duality gap: 10.222512078747968, tolerance: 9.32950608875129\n",
      "  model = cd_fast.enet_coordinate_descent_gram(\n",
      "/home/diego/src/AML_projects/project1/.venv/lib/python3.12/site-packages/sklearn/linear_model/_coordinate_descent.py:683: ConvergenceWarning: Objective did not converge. You might want to increase the number of iterations. Duality gap: 9.878327483369503, tolerance: 9.32950608875129\n",
      "  model = cd_fast.enet_coordinate_descent_gram(\n",
      "/home/diego/src/AML_projects/project1/.venv/lib/python3.12/site-packages/sklearn/linear_model/_coordinate_descent.py:683: ConvergenceWarning: Objective did not converge. You might want to increase the number of iterations. Duality gap: 9.415354841556109, tolerance: 9.32950608875129\n",
      "  model = cd_fast.enet_coordinate_descent_gram(\n",
      "/home/diego/src/AML_projects/project1/.venv/lib/python3.12/site-packages/sklearn/linear_model/_coordinate_descent.py:683: ConvergenceWarning: Objective did not converge. You might want to increase the number of iterations. Duality gap: 9.57234762248845, tolerance: 9.32950608875129\n",
      "  model = cd_fast.enet_coordinate_descent_gram(\n",
      "/home/diego/src/AML_projects/project1/.venv/lib/python3.12/site-packages/sklearn/linear_model/_coordinate_descent.py:683: ConvergenceWarning: Objective did not converge. You might want to increase the number of iterations. Duality gap: 14.03074766309146, tolerance: 9.32950608875129\n",
      "  model = cd_fast.enet_coordinate_descent_gram(\n",
      "/home/diego/src/AML_projects/project1/.venv/lib/python3.12/site-packages/sklearn/linear_model/_coordinate_descent.py:683: ConvergenceWarning: Objective did not converge. You might want to increase the number of iterations. Duality gap: 12.900234092281607, tolerance: 9.32950608875129\n",
      "  model = cd_fast.enet_coordinate_descent_gram(\n",
      "/home/diego/src/AML_projects/project1/.venv/lib/python3.12/site-packages/sklearn/linear_model/_coordinate_descent.py:683: ConvergenceWarning: Objective did not converge. You might want to increase the number of iterations. Duality gap: 12.797274922471843, tolerance: 9.32950608875129\n",
      "  model = cd_fast.enet_coordinate_descent_gram(\n",
      "/home/diego/src/AML_projects/project1/.venv/lib/python3.12/site-packages/sklearn/linear_model/_coordinate_descent.py:683: ConvergenceWarning: Objective did not converge. You might want to increase the number of iterations. Duality gap: 12.49469839388621, tolerance: 9.21484958762887\n",
      "  model = cd_fast.enet_coordinate_descent_gram(\n",
      "/home/diego/src/AML_projects/project1/.venv/lib/python3.12/site-packages/sklearn/linear_model/_coordinate_descent.py:683: ConvergenceWarning: Objective did not converge. You might want to increase the number of iterations. Duality gap: 13.519788275938481, tolerance: 9.21484958762887\n",
      "  model = cd_fast.enet_coordinate_descent_gram(\n",
      "/home/diego/src/AML_projects/project1/.venv/lib/python3.12/site-packages/sklearn/linear_model/_coordinate_descent.py:683: ConvergenceWarning: Objective did not converge. You might want to increase the number of iterations. Duality gap: 12.328071339405142, tolerance: 9.21484958762887\n",
      "  model = cd_fast.enet_coordinate_descent_gram(\n",
      "/home/diego/src/AML_projects/project1/.venv/lib/python3.12/site-packages/sklearn/linear_model/_coordinate_descent.py:683: ConvergenceWarning: Objective did not converge. You might want to increase the number of iterations. Duality gap: 12.486356009925657, tolerance: 9.21484958762887\n",
      "  model = cd_fast.enet_coordinate_descent_gram(\n",
      "/home/diego/src/AML_projects/project1/.venv/lib/python3.12/site-packages/sklearn/linear_model/_coordinate_descent.py:683: ConvergenceWarning: Objective did not converge. You might want to increase the number of iterations. Duality gap: 12.323947487020632, tolerance: 9.21484958762887\n",
      "  model = cd_fast.enet_coordinate_descent_gram(\n",
      "/home/diego/src/AML_projects/project1/.venv/lib/python3.12/site-packages/sklearn/linear_model/_coordinate_descent.py:683: ConvergenceWarning: Objective did not converge. You might want to increase the number of iterations. Duality gap: 12.308320876582002, tolerance: 9.21484958762887\n",
      "  model = cd_fast.enet_coordinate_descent_gram(\n",
      "/home/diego/src/AML_projects/project1/.venv/lib/python3.12/site-packages/sklearn/linear_model/_coordinate_descent.py:683: ConvergenceWarning: Objective did not converge. You might want to increase the number of iterations. Duality gap: 11.91520954266889, tolerance: 9.21484958762887\n",
      "  model = cd_fast.enet_coordinate_descent_gram(\n",
      "/home/diego/src/AML_projects/project1/.venv/lib/python3.12/site-packages/sklearn/linear_model/_coordinate_descent.py:683: ConvergenceWarning: Objective did not converge. You might want to increase the number of iterations. Duality gap: 11.445581394495093, tolerance: 9.21484958762887\n",
      "  model = cd_fast.enet_coordinate_descent_gram(\n",
      "/home/diego/src/AML_projects/project1/.venv/lib/python3.12/site-packages/sklearn/linear_model/_coordinate_descent.py:683: ConvergenceWarning: Objective did not converge. You might want to increase the number of iterations. Duality gap: 13.950536868585914, tolerance: 9.21484958762887\n",
      "  model = cd_fast.enet_coordinate_descent_gram(\n",
      "/home/diego/src/AML_projects/project1/.venv/lib/python3.12/site-packages/sklearn/linear_model/_coordinate_descent.py:683: ConvergenceWarning: Objective did not converge. You might want to increase the number of iterations. Duality gap: 24.473551913775736, tolerance: 9.21484958762887\n",
      "  model = cd_fast.enet_coordinate_descent_gram(\n",
      "/home/diego/src/AML_projects/project1/.venv/lib/python3.12/site-packages/sklearn/linear_model/_coordinate_descent.py:683: ConvergenceWarning: Objective did not converge. You might want to increase the number of iterations. Duality gap: 27.345983432474895, tolerance: 9.21484958762887\n",
      "  model = cd_fast.enet_coordinate_descent_gram(\n",
      "/home/diego/src/AML_projects/project1/.venv/lib/python3.12/site-packages/sklearn/linear_model/_coordinate_descent.py:683: ConvergenceWarning: Objective did not converge. You might want to increase the number of iterations. Duality gap: 25.935582345358853, tolerance: 9.21484958762887\n",
      "  model = cd_fast.enet_coordinate_descent_gram(\n",
      "/home/diego/src/AML_projects/project1/.venv/lib/python3.12/site-packages/sklearn/linear_model/_coordinate_descent.py:683: ConvergenceWarning: Objective did not converge. You might want to increase the number of iterations. Duality gap: 25.063257617061026, tolerance: 9.21484958762887\n",
      "  model = cd_fast.enet_coordinate_descent_gram(\n",
      "/home/diego/src/AML_projects/project1/.venv/lib/python3.12/site-packages/sklearn/linear_model/_coordinate_descent.py:683: ConvergenceWarning: Objective did not converge. You might want to increase the number of iterations. Duality gap: 24.494029478009907, tolerance: 9.21484958762887\n",
      "  model = cd_fast.enet_coordinate_descent_gram(\n",
      "/home/diego/src/AML_projects/project1/.venv/lib/python3.12/site-packages/sklearn/linear_model/_coordinate_descent.py:683: ConvergenceWarning: Objective did not converge. You might want to increase the number of iterations. Duality gap: 23.993435152478924, tolerance: 9.21484958762887\n",
      "  model = cd_fast.enet_coordinate_descent_gram(\n",
      "/home/diego/src/AML_projects/project1/.venv/lib/python3.12/site-packages/sklearn/linear_model/_coordinate_descent.py:683: ConvergenceWarning: Objective did not converge. You might want to increase the number of iterations. Duality gap: 22.537889914718107, tolerance: 9.00709319587629\n",
      "  model = cd_fast.enet_coordinate_descent_gram(\n",
      "/home/diego/src/AML_projects/project1/.venv/lib/python3.12/site-packages/sklearn/linear_model/_coordinate_descent.py:683: ConvergenceWarning: Objective did not converge. You might want to increase the number of iterations. Duality gap: 21.14119139372633, tolerance: 9.00709319587629\n",
      "  model = cd_fast.enet_coordinate_descent_gram(\n",
      "/home/diego/src/AML_projects/project1/.venv/lib/python3.12/site-packages/sklearn/linear_model/_coordinate_descent.py:683: ConvergenceWarning: Objective did not converge. You might want to increase the number of iterations. Duality gap: 20.456536271536606, tolerance: 9.00709319587629\n",
      "  model = cd_fast.enet_coordinate_descent_gram(\n",
      "/home/diego/src/AML_projects/project1/.venv/lib/python3.12/site-packages/sklearn/linear_model/_coordinate_descent.py:683: ConvergenceWarning: Objective did not converge. You might want to increase the number of iterations. Duality gap: 19.814652339642635, tolerance: 9.00709319587629\n",
      "  model = cd_fast.enet_coordinate_descent_gram(\n",
      "/home/diego/src/AML_projects/project1/.venv/lib/python3.12/site-packages/sklearn/linear_model/_coordinate_descent.py:683: ConvergenceWarning: Objective did not converge. You might want to increase the number of iterations. Duality gap: 19.403022253689414, tolerance: 9.00709319587629\n",
      "  model = cd_fast.enet_coordinate_descent_gram(\n",
      "/home/diego/src/AML_projects/project1/.venv/lib/python3.12/site-packages/sklearn/linear_model/_coordinate_descent.py:683: ConvergenceWarning: Objective did not converge. You might want to increase the number of iterations. Duality gap: 18.645596874819603, tolerance: 9.00709319587629\n",
      "  model = cd_fast.enet_coordinate_descent_gram(\n",
      "/home/diego/src/AML_projects/project1/.venv/lib/python3.12/site-packages/sklearn/linear_model/_coordinate_descent.py:683: ConvergenceWarning: Objective did not converge. You might want to increase the number of iterations. Duality gap: 17.776346998056397, tolerance: 9.00709319587629\n",
      "  model = cd_fast.enet_coordinate_descent_gram(\n",
      "/home/diego/src/AML_projects/project1/.venv/lib/python3.12/site-packages/sklearn/linear_model/_coordinate_descent.py:683: ConvergenceWarning: Objective did not converge. You might want to increase the number of iterations. Duality gap: 16.385639406631526, tolerance: 9.00709319587629\n",
      "  model = cd_fast.enet_coordinate_descent_gram(\n",
      "/home/diego/src/AML_projects/project1/.venv/lib/python3.12/site-packages/sklearn/linear_model/_coordinate_descent.py:683: ConvergenceWarning: Objective did not converge. You might want to increase the number of iterations. Duality gap: 16.160633236817375, tolerance: 9.00709319587629\n",
      "  model = cd_fast.enet_coordinate_descent_gram(\n",
      "/home/diego/src/AML_projects/project1/.venv/lib/python3.12/site-packages/sklearn/linear_model/_coordinate_descent.py:683: ConvergenceWarning: Objective did not converge. You might want to increase the number of iterations. Duality gap: 14.451478220587887, tolerance: 9.00709319587629\n",
      "  model = cd_fast.enet_coordinate_descent_gram(\n",
      "/home/diego/src/AML_projects/project1/.venv/lib/python3.12/site-packages/sklearn/linear_model/_coordinate_descent.py:683: ConvergenceWarning: Objective did not converge. You might want to increase the number of iterations. Duality gap: 12.709755173927988, tolerance: 9.00709319587629\n",
      "  model = cd_fast.enet_coordinate_descent_gram(\n",
      "/home/diego/src/AML_projects/project1/.venv/lib/python3.12/site-packages/sklearn/linear_model/_coordinate_descent.py:683: ConvergenceWarning: Objective did not converge. You might want to increase the number of iterations. Duality gap: 13.642670573193755, tolerance: 9.00709319587629\n",
      "  model = cd_fast.enet_coordinate_descent_gram(\n"
     ]
    },
    {
     "name": "stdout",
     "output_type": "stream",
     "text": [
      "Validation Mean Squared Error: 70.82209545791454\n"
     ]
    }
   ],
   "source": [
    "from sklearn.linear_model import LassoCV\n",
    "from sklearn.metrics import mean_squared_error\n",
    "\n",
    "lasso = LassoCV(cv=5, random_state=42)\n",
    "lasso.fit(X_train_scaled, y_train_full.ravel())\n",
    "\n",
    "y_val_pred = lasso.predict(X_val_scaled)\n",
    "y_train_pred = lasso.predict(X_train_scaled)\n",
    "mse = mean_squared_error(y_val, y_val_pred)\n",
    "print(f\"Validation Mean Squared Error: {mse}\")"
   ]
  }
 ],
 "metadata": {
  "kernelspec": {
   "display_name": ".venv",
   "language": "python",
   "name": "python3"
  },
  "language_info": {
   "codemirror_mode": {
    "name": "ipython",
    "version": 3
   },
   "file_extension": ".py",
   "mimetype": "text/x-python",
   "name": "python",
   "nbconvert_exporter": "python",
   "pygments_lexer": "ipython3",
   "version": "3.12.7"
  }
 },
 "nbformat": 4,
 "nbformat_minor": 2
}
