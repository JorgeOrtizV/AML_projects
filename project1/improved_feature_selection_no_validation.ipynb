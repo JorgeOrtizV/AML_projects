{
 "cells": [
  {
   "cell_type": "code",
   "execution_count": 2,
   "metadata": {},
   "outputs": [],
   "source": [
    "import numpy as np\n",
    "import pandas as pd"
   ]
  },
  {
   "cell_type": "markdown",
   "metadata": {},
   "source": [
    "# Data preprocessing"
   ]
  },
  {
   "cell_type": "markdown",
   "metadata": {},
   "source": [
    "### Read data and save to vector"
   ]
  },
  {
   "cell_type": "code",
   "execution_count": 3,
   "metadata": {},
   "outputs": [
    {
     "name": "stdout",
     "output_type": "stream",
     "text": [
      "(1212, 832) (1212, 1) (776, 832)\n"
     ]
    }
   ],
   "source": [
    "from sklearn.preprocessing import StandardScaler\n",
    "\n",
    "X_train_df = pd.read_csv('./data/X_train.csv', skiprows=1, header=None)\n",
    "y_train_df = pd.read_csv('./data/y_train.csv', skiprows=1, header=None)\n",
    "X_test_df = pd.read_csv('./data/X_test.csv', skiprows=1, header=None)\n",
    "\n",
    "X_train_full = X_train_df.values[:, 1:]\n",
    "y_train_full = y_train_df.values[:, 1:]\n",
    "X_test = X_test_df.values[:, 1:]\n",
    "\n",
    "print(X_train_full.shape, y_train_full.shape, X_test.shape)"
   ]
  },
  {
   "cell_type": "markdown",
   "metadata": {},
   "source": [
    "### Imputing NaN"
   ]
  },
  {
   "cell_type": "code",
   "execution_count": 4,
   "metadata": {},
   "outputs": [],
   "source": [
    "from sklearn.experimental import enable_iterative_imputer\n",
    "from sklearn.impute import SimpleImputer\n",
    "\n",
    "mean_imputer = SimpleImputer(strategy='mean')\n",
    "X_train_imputed = mean_imputer.fit_transform(X_train_full)"
   ]
  },
  {
   "cell_type": "markdown",
   "metadata": {},
   "source": [
    "### Feature selection"
   ]
  },
  {
   "cell_type": "code",
   "execution_count": 5,
   "metadata": {},
   "outputs": [
    {
     "name": "stdout",
     "output_type": "stream",
     "text": [
      "Number of significant features: 245\n"
     ]
    },
    {
     "name": "stderr",
     "output_type": "stream",
     "text": [
      "/home/diego/src/AML_projects/project1/.venv/lib/python3.12/site-packages/sklearn/feature_selection/_univariate_selection.py:379: RuntimeWarning: invalid value encountered in sqrt\n",
      "  X_norms = np.sqrt(row_norms(X.T, squared=True) - n_samples * X_means**2)\n"
     ]
    }
   ],
   "source": [
    "from sklearn.feature_selection import SelectKBest, f_regression\n",
    "\n",
    "selector = SelectKBest(score_func=f_regression, k='all')\n",
    "selector.fit(X_train_imputed, y_train_full.ravel())\n",
    "\n",
    "p_values = selector.pvalues_\n",
    "scores = selector.scores_\n",
    "\n",
    "significant_feature_indices = np.where(p_values < 5e-2)[0]\n",
    "\n",
    "print(f\"Number of significant features: {len(significant_feature_indices)}\")"
   ]
  },
  {
   "cell_type": "code",
   "execution_count": 6,
   "metadata": {},
   "outputs": [],
   "source": [
    "# Extract selected features from the original data\n",
    "X_train_selected = X_train_full[:, significant_feature_indices]\n",
    "X_test_selected = X_test[:, significant_feature_indices]"
   ]
  },
  {
   "cell_type": "markdown",
   "metadata": {},
   "source": [
    "### Final NaN imputation"
   ]
  },
  {
   "cell_type": "code",
   "execution_count": 7,
   "metadata": {},
   "outputs": [],
   "source": [
    "from sklearn.experimental import enable_iterative_imputer\n",
    "from sklearn.impute import IterativeImputer\n",
    "\n",
    "# Impute missing values over the selected features\n",
    "iterative_imputer = IterativeImputer()\n",
    "X_train_selected_imputed = iterative_imputer.fit_transform(X_train_selected)\n",
    "X_test_selected_imputed = iterative_imputer.transform(X_test_selected)"
   ]
  },
  {
   "cell_type": "markdown",
   "metadata": {},
   "source": [
    "### Outlier detection?"
   ]
  },
  {
   "cell_type": "code",
   "execution_count": 19,
   "metadata": {},
   "outputs": [],
   "source": [
    "from sklearn.ensemble import IsolationForest\n",
    "\n",
    "iso_forest = IsolationForest(contamination=0.01)\n",
    "outlier_pred = iso_forest.fit_predict(X_train_selected_imputed)\n",
    "\n",
    "# Keep only inliers\n",
    "inlier_mask = outlier_pred != -1\n",
    "X_train_outliers_removed = X_train_selected_imputed[inlier_mask]\n",
    "y_train_outliers_removed = y_train_full[inlier_mask]"
   ]
  },
  {
   "cell_type": "markdown",
   "metadata": {},
   "source": [
    "### Scale features"
   ]
  },
  {
   "cell_type": "code",
   "execution_count": 20,
   "metadata": {},
   "outputs": [],
   "source": [
    "from sklearn.preprocessing import StandardScaler\n",
    "\n",
    "## Scale features, fit_transform on train set, scale other sets accordingly \n",
    "scaler = StandardScaler()\n",
    "X_train_scaled = scaler.fit_transform(X_train_selected_imputed)\n",
    "X_test_scaled = scaler.transform(X_test_selected_imputed)"
   ]
  },
  {
   "cell_type": "markdown",
   "metadata": {},
   "source": [
    "# Training set"
   ]
  },
  {
   "cell_type": "markdown",
   "metadata": {},
   "source": [
    "### Linear"
   ]
  },
  {
   "cell_type": "code",
   "execution_count": 21,
   "metadata": {},
   "outputs": [
    {
     "name": "stdout",
     "output_type": "stream",
     "text": [
      "Linear Regression r2 score: 0.5073822126403644\n"
     ]
    }
   ],
   "source": [
    "from sklearn.linear_model import LinearRegression\n",
    "from sklearn.metrics import r2_score \n",
    "\n",
    "# Train the Linear Regression model\n",
    "linear_regressor = LinearRegression()\n",
    "linear_regressor.fit(X_train_scaled, y_train_full.ravel())\n",
    "\n",
    "# Predict on the validation set\n",
    "y_pred_lr = linear_regressor.predict(X_train_scaled)\n",
    "mse_full_lr = r2_score(y_train_full, y_pred_lr)\n",
    "print(f\"Linear Regression r2 score: {mse_full_lr}\")"
   ]
  },
  {
   "cell_type": "markdown",
   "metadata": {},
   "source": [
    "### Ridge"
   ]
  },
  {
   "cell_type": "code",
   "execution_count": 22,
   "metadata": {},
   "outputs": [
    {
     "name": "stdout",
     "output_type": "stream",
     "text": [
      "Ridge Regression R2 score: 0.3904320459904407\n"
     ]
    }
   ],
   "source": [
    "from sklearn.linear_model import RidgeCV\n",
    "from sklearn.metrics import r2_score\n",
    "\n",
    "# Define a range of alpha values to test\n",
    "alphas = np.logspace(-3, 3, 20)\n",
    "\n",
    "# Train the Ridge Regression model with cross-validation\n",
    "ridge_regressor = RidgeCV(alphas=alphas, cv=5)\n",
    "ridge_regressor.fit(X_train_scaled, y_train_full.ravel())\n",
    "\n",
    "# Predict on the validation set\n",
    "y_pred_ridge = ridge_regressor.predict(X_train_scaled)\n",
    "mse_full_ridge = r2_score(y_train_full, y_pred_ridge)\n",
    "print(f\"Ridge Regression R2 score: {mse_full_ridge}\")"
   ]
  },
  {
   "cell_type": "markdown",
   "metadata": {},
   "source": [
    "### Lasso"
   ]
  },
  {
   "cell_type": "code",
   "execution_count": 23,
   "metadata": {},
   "outputs": [
    {
     "name": "stdout",
     "output_type": "stream",
     "text": [
      "Lasso R2 score: 0.23843736056118037\n"
     ]
    }
   ],
   "source": [
    "from sklearn.linear_model import LassoCV\n",
    "from sklearn.metrics import r2_score \n",
    "\n",
    "# Train lasso\n",
    "lasso = LassoCV(cv=5, max_iter=10000)\n",
    "lasso.fit(X_train_scaled, y_train_full.ravel())\n",
    "\n",
    "# Predict valudation set, and full train set\n",
    "y_pred = lasso.predict(X_train_scaled)\n",
    "mse_full = r2_score(y_train_full, y_pred)\n",
    "print(f\"Lasso R2 score: {mse_full}\")"
   ]
  },
  {
   "cell_type": "code",
   "execution_count": 24,
   "metadata": {},
   "outputs": [
    {
     "name": "stdout",
     "output_type": "stream",
     "text": [
      "Number of features selected by Lasso: 43\n"
     ]
    }
   ],
   "source": [
    "# Determine the features that lasso is actually using\n",
    "coefficients = lasso.coef_\n",
    "non_zero_coefs = np.sum(coefficients != 0)\n",
    "print(f\"Number of features selected by Lasso: {non_zero_coefs}\")"
   ]
  },
  {
   "cell_type": "code",
   "execution_count": 25,
   "metadata": {},
   "outputs": [
    {
     "name": "stdout",
     "output_type": "stream",
     "text": [
      "Final Lasso r2 score: 0.30383685970355145\n"
     ]
    }
   ],
   "source": [
    "# Take only those features\n",
    "X_train_lasso_selected = X_train_scaled[:, coefficients != 0]\n",
    "X_test_lasso_selected = X_test_scaled[:, coefficients != 0]\n",
    "\n",
    "# Retrain the model to the features\n",
    "lasso_final = LassoCV(cv=5, random_state=42)\n",
    "lasso_final.fit(X_train_lasso_selected, y_train_full.ravel())\n",
    "\n",
    "# Predict again (for the full set, this usually gives worse MSE)\n",
    "y_full_pred_final = lasso_final.predict(X_train_lasso_selected)\n",
    "mse_final_full = r2_score(y_train_full, y_full_pred_final)\n",
    "print(f\"Final Lasso r2 score: {mse_final_full}\")"
   ]
  },
  {
   "cell_type": "markdown",
   "metadata": {},
   "source": [
    "# Export to csv"
   ]
  },
  {
   "cell_type": "code",
   "execution_count": 1,
   "metadata": {},
   "outputs": [
    {
     "ename": "NameError",
     "evalue": "name 'linear_regressor' is not defined",
     "output_type": "error",
     "traceback": [
      "\u001b[0;31m---------------------------------------------------------------------------\u001b[0m",
      "\u001b[0;31mNameError\u001b[0m                                 Traceback (most recent call last)",
      "Cell \u001b[0;32mIn[1], line 2\u001b[0m\n\u001b[1;32m      1\u001b[0m \u001b[38;5;66;03m# Exporting to required format for Kaggle\u001b[39;00m\n\u001b[0;32m----> 2\u001b[0m y_test_pred \u001b[38;5;241m=\u001b[39m \u001b[43mlinear_regressor\u001b[49m\u001b[38;5;241m.\u001b[39mpredict(X_test_scaled)\n\u001b[1;32m      4\u001b[0m table \u001b[38;5;241m=\u001b[39m pd\u001b[38;5;241m.\u001b[39mDataFrame({\u001b[38;5;124m'\u001b[39m\u001b[38;5;124mid\u001b[39m\u001b[38;5;124m'\u001b[39m: np\u001b[38;5;241m.\u001b[39marange(\u001b[38;5;241m0\u001b[39m, y_test_pred\u001b[38;5;241m.\u001b[39mshape[\u001b[38;5;241m0\u001b[39m]), \u001b[38;5;124m'\u001b[39m\u001b[38;5;124my\u001b[39m\u001b[38;5;124m'\u001b[39m: y_test_pred\u001b[38;5;241m.\u001b[39mflatten()})\n\u001b[1;32m      5\u001b[0m \u001b[38;5;28mprint\u001b[39m(table\u001b[38;5;241m.\u001b[39mshape)\n",
      "\u001b[0;31mNameError\u001b[0m: name 'linear_regressor' is not defined"
     ]
    }
   ],
   "source": [
    "# Exporting to required format for Kaggle\n",
    "y_test_pred = linear_regressor.predict(X_test_scaled)\n",
    "\n",
    "table = pd.DataFrame({'id': np.arange(0, y_test_pred.shape[0]), 'y': y_test_pred.flatten()})\n",
    "print(table.shape)\n",
    "table.to_csv('./data/predictions/y_test_pred.csv', index=False)"
   ]
  },
  {
   "cell_type": "code",
   "execution_count": null,
   "metadata": {},
   "outputs": [],
   "source": []
  }
 ],
 "metadata": {
  "kernelspec": {
   "display_name": ".venv",
   "language": "python",
   "name": "python3"
  },
  "language_info": {
   "codemirror_mode": {
    "name": "ipython",
    "version": 3
   },
   "file_extension": ".py",
   "mimetype": "text/x-python",
   "name": "python",
   "nbconvert_exporter": "python",
   "pygments_lexer": "ipython3",
   "version": "3.12.7"
  }
 },
 "nbformat": 4,
 "nbformat_minor": 2
}
